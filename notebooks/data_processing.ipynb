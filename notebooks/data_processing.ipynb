{
 "cells": [
  {
   "cell_type": "markdown",
   "metadata": {},
   "source": [
    "# Notebook for preprocessing the data"
   ]
  },
  {
   "cell_type": "markdown",
   "metadata": {},
   "source": [
    "import necessary Libraries\n",
    "\n",
    "It is important to set path for the python source code"
   ]
  },
  {
   "cell_type": "code",
   "execution_count": null,
   "metadata": {},
   "outputs": [],
   "source": [
    "import sys  \n",
    "sys.path.insert(0, '../src')\n",
    "\n",
    "import os\n",
    "import numpy as np\n",
    "import pandas as pd\n",
    "import random\n",
    "\n",
    "from glob import glob\n",
    "\n",
    "import config\n",
    "\n",
    "%matplotlib inline\n",
    "import matplotlib.pyplot as plt\n",
    "import matplotlib.image as img\n",
    "\n",
    "from sklearn.preprocessing import MultiLabelBinarizer"
   ]
  },
  {
   "cell_type": "code",
   "execution_count": null,
   "metadata": {},
   "outputs": [],
   "source": [
    "random.seed(config.SEED)"
   ]
  },
  {
   "cell_type": "markdown",
   "metadata": {},
   "source": [
    "## Load Input Data"
   ]
  },
  {
   "cell_type": "markdown",
   "metadata": {},
   "source": [
    "### Load Image Index File"
   ]
  },
  {
   "cell_type": "markdown",
   "metadata": {},
   "source": [
    "This function loads the index file for images. The index file also have other non-image features"
   ]
  },
  {
   "cell_type": "code",
   "execution_count": null,
   "metadata": {},
   "outputs": [],
   "source": [
    "def load_image_indices (root_dir=config.ROOT_PATH, data_dir=config.INPUT_DATA_DIR, index_file=config.INDEX_FILE) :\n",
    "    \n",
    "    '''\n",
    "    Loads the input data indices\n",
    "    Args:\n",
    "      data_dir: Path to the input data dir\n",
    "      root_dir: Path to project root dir\n",
    "      index_file: File name with indices to Images\n",
    "    Returns:\n",
    "      ataFrame with input images\n",
    "    '''\n",
    "    \n",
    "    indices = pd.read_csv(os.path.join(root_dir, data_dir, index_file))\n",
    "    \n",
    "    indices.drop(columns=['Unnamed: 11'], axis=1, inplace=True)\n",
    "    \n",
    "    indices.rename(columns={\"OriginalImage[Width\": \"Width\", \"Height]\": \"Height\", \n",
    "                            \"OriginalImagePixelSpacing[x\": \"X\", \"y]\": \"Y\", \"Follow-up #\": \"Follow Up\"}, inplace=True)\n",
    "    \n",
    "    return indices"
   ]
  },
  {
   "cell_type": "markdown",
   "metadata": {},
   "source": [
    "### Load Image paths and add to index dataframe"
   ]
  },
  {
   "cell_type": "code",
   "execution_count": null,
   "metadata": {},
   "outputs": [],
   "source": [
    "def load_image_paths (df_indides=None, root_dir=config.ROOT_PATH, data_dir=config.INPUT_DATA_DIR) :\n",
    "    \n",
    "    '''\n",
    "    Loads the input data\n",
    "    Args:\n",
    "      path: Path to the input data dit\n",
    "    Returns:\n",
    "      ataFrame with input images\n",
    "    '''\n",
    "    \n",
    "    if not df_indides:\n",
    "        df_indices = load_image_indices(root_dir=root_dir, data_dir=data_dir)\n",
    "    \n",
    "    image_paths = glob(os.path.join(root_dir, data_dir, 'images', '*.png'))\n",
    "    \n",
    "    if len(df_indices) == len(image_paths):\n",
    "        df_indices['Image_path'] = df_indices['Image Index'].map(\n",
    "            {os.path.basename(image_path): os.path.relpath(image_path) for image_path in image_paths})\n",
    "        \n",
    "    else:\n",
    "        raise Exception('miamatch in index file and image count')\n",
    "        \n",
    "    return df_indices"
   ]
  },
  {
   "cell_type": "markdown",
   "metadata": {},
   "source": [
    "### Get all unique image labels in a DF"
   ]
  },
  {
   "cell_type": "code",
   "execution_count": null,
   "metadata": {},
   "outputs": [],
   "source": [
    "def load_image_labels (df_indices) :\n",
    "        \n",
    "    labels = list(set([label for label_list in df_indices['Finding Labels'].str.split(\"|\", expand = False) for label in label_list]))\n",
    "    \n",
    "    return labels"
   ]
  },
  {
   "cell_type": "markdown",
   "metadata": {},
   "source": [
    "### Draw an image"
   ]
  },
  {
   "cell_type": "code",
   "execution_count": null,
   "metadata": {},
   "outputs": [],
   "source": [
    "def draw_image (df, i=random.randint(0,99999)) :\n",
    "        \n",
    "    if i >= len(df):\n",
    "        i = len(df)-1\n",
    "    plt.imshow(img.imread(df['Image_path'][i]), cmap = 'bone')\n",
    "    plt.title(df['Finding Labels'][i])"
   ]
  },
  {
   "cell_type": "code",
   "execution_count": null,
   "metadata": {},
   "outputs": [],
   "source": [
    "def load_data():\n",
    "    df_indices = load_image_paths()\n",
    "    lst_labels = load_image_labels(df_indices)\n",
    "    \n",
    "    df_data    = df_indices[['Patient ID','Patient Age','Patient Gender',\n",
    "                          'Follow Up','Image Index','Image_path','Finding Labels']]\n",
    "    \n",
    "    return df_data, lst_labels"
   ]
  },
  {
   "cell_type": "code",
   "execution_count": null,
   "metadata": {},
   "outputs": [],
   "source": [
    "def multi_hot_label(df_data, labels):\n",
    "    mb = MultiLabelBinarizer(sparse_output=True)\n",
    "\n",
    "    df_data = df_data.join(pd.DataFrame.sparse.from_spmatrix(mb.fit_transform(df_data['Finding Labels'].str.split(\"|\", expand = False)),columns=mb.classes_,index=df_data.index))\n",
    "    df_data.drop(columns=['Finding Labels'], axis=1, inplace=True)\n",
    "    \n",
    "    return df_data"
   ]
  },
  {
   "cell_type": "markdown",
   "metadata": {},
   "source": [
    "### Split into Test and Train Set"
   ]
  },
  {
   "cell_type": "code",
   "execution_count": null,
   "metadata": {},
   "outputs": [],
   "source": [
    "def train_test_split(df_data, train_val_list_file=config.TRAIN_VAL_FILE, test_val_list_file=config.TEST_VAL_FILE,\n",
    "                     root_dir=config.ROOT_PATH, data_dir=config.INPUT_DATA_DIR):\n",
    "    \n",
    "    with open(os.path.join(root_dir, data_dir, train_val_list_file)) as f:\n",
    "        train_val_list = [x.strip() for x in f.readlines()]\n",
    "    \n",
    "    with open(os.path.join(root_dir, data_dir, test_val_list_file)) as f:\n",
    "        test_val_list  = [x.strip() for x in f.readlines()]\n",
    "        \n",
    "    df_train = df_data[df_data['Image Index'].isin(train_val_list)]\n",
    "    df_valid = df_data[df_data['Image Index'].isin(test_val_list)]    \n",
    "    \n",
    "    return df_train, df_valid"
   ]
  },
  {
   "cell_type": "markdown",
   "metadata": {},
   "source": [
    "#### MAIN"
   ]
  },
  {
   "cell_type": "code",
   "execution_count": null,
   "metadata": {},
   "outputs": [],
   "source": [
    "df_data, labels = load_data()"
   ]
  },
  {
   "cell_type": "code",
   "execution_count": null,
   "metadata": {},
   "outputs": [],
   "source": [
    "df_data"
   ]
  },
  {
   "cell_type": "markdown",
   "metadata": {},
   "source": [
    "#### Get all dinstinct target labels"
   ]
  },
  {
   "cell_type": "code",
   "execution_count": null,
   "metadata": {},
   "outputs": [],
   "source": [
    "labels"
   ]
  },
  {
   "cell_type": "code",
   "execution_count": null,
   "metadata": {},
   "outputs": [],
   "source": [
    "draw_image(df_data)"
   ]
  },
  {
   "cell_type": "code",
   "execution_count": null,
   "metadata": {},
   "outputs": [],
   "source": [
    "df_data = multi_hot_label(df_data, labels)\n",
    "df_data"
   ]
  },
  {
   "cell_type": "code",
   "execution_count": null,
   "metadata": {},
   "outputs": [],
   "source": [
    "df_train, df_test = train_test_split(df_data)"
   ]
  },
  {
   "cell_type": "code",
   "execution_count": null,
   "metadata": {},
   "outputs": [],
   "source": [
    "### end ###"
   ]
  }
 ],
 "metadata": {
  "kernelspec": {
   "display_name": "Python 3",
   "language": "python",
   "name": "python3"
  },
  "language_info": {
   "codemirror_mode": {
    "name": "ipython",
    "version": 3
   },
   "file_extension": ".py",
   "mimetype": "text/x-python",
   "name": "python",
   "nbconvert_exporter": "python",
   "pygments_lexer": "ipython3",
   "version": "3.7.3"
  }
 },
 "nbformat": 4,
 "nbformat_minor": 2
}
