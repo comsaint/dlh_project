{
 "cells": [
  {
   "cell_type": "code",
   "execution_count": 1,
   "metadata": {},
   "outputs": [
    {
     "name": "stdout",
     "output_type": "stream",
     "text": [
      "Device: cuda Name: Quadro P1000\n"
     ]
    }
   ],
   "source": [
    "import sys  \n",
    "sys.path.insert(0, '../src')\n",
    "import model"
   ]
  },
  {
   "cell_type": "code",
   "execution_count": 2,
   "metadata": {},
   "outputs": [
    {
     "name": "stdout",
     "output_type": "stream",
     "text": [
      "Num Epochs        : 10\n",
      "Num Classes       : 1\n",
      "Target Class List : ['Atelectasis']\n",
      "\n",
      "Training started\n",
      "    Mode          : cuda\n",
      "    Model type    : <class 'model.SimpleNet'>\n",
      "Epoch 1\n",
      ".......... Epoch:  1 , Bacth:  10 , loss: 0.5979002356529236 Average batch time: 9.506906056404114 secs\n",
      ".......... Epoch:  1 , Bacth:  20 , loss: 0.5336894318461418 Average batch time: 7.287689828872681 secs\n",
      "........\n",
      "Epoch              : 1/10\n",
      "Training Loss      : 0.46834169887006283\n",
      "Validation Loss    : 0.3742391765117645\n",
      "Validation Accuracy: 0.877196935556557\n",
      "Validation ROC     : 0.5001116447540516\n",
      "Epoch 2\n",
      ".......... Epoch:  2 , Bacth:  10 , loss: 0.26819313168525694 Average batch time: 33.337025833129886 secs\n",
      ".......... Epoch:  2 , Bacth:  20 , loss: 0.28745360374450685 Average batch time: 19.50546132326126 secs\n",
      "........\n",
      "Epoch              : 2/10\n",
      "Training Loss      : 0.2860439560775246\n",
      "Validation Loss    : 0.3728037476539612\n",
      "Validation Accuracy: 0.877196935556557\n",
      "Validation ROC     : 0.4571292392603049\n",
      "Epoch 3\n",
      ".......... Epoch:  3 , Bacth:  10 , loss: 0.26940207183361053 Average batch time: 58.70165474414826 secs\n",
      ".......... Epoch:  3 , Bacth:  20 , loss: 0.2879157602787018 Average batch time: 32.08355462551117 secs\n",
      "........\n",
      "Epoch              : 3/10\n",
      "Training Loss      : 0.2889585356627192\n",
      "Validation Loss    : 0.379034161567688\n",
      "Validation Accuracy: 0.877196935556557\n",
      "Validation ROC     : 0.4602179399863788\n",
      "Epoch 4\n",
      ".......... Epoch:  4 , Bacth:  10 , loss: 0.27079620212316513 Average batch time: 84.11959784030914 secs\n",
      ".......... Epoch:  4 , Bacth:  20 , loss: 0.2871812514960766 Average batch time: 44.79002264738083 secs\n",
      "........\n",
      "Epoch              : 4/10\n",
      "Training Loss      : 0.28639056134436813\n",
      "Validation Loss    : 0.3817134499549866\n",
      "Validation Accuracy: 0.877196935556557\n",
      "Validation ROC     : 0.4608625927034409\n",
      "Epoch 5\n",
      ".......... Epoch:  5 , Bacth:  10 , loss: 0.2632454514503479 Average batch time: 108.5667830467224 secs\n",
      ".......... Epoch:  5 , Bacth:  20 , loss: 0.28178631067276 Average batch time: 56.86994191408157 secs\n",
      "........\n",
      "Epoch              : 5/10\n",
      "Training Loss      : 0.28233650672648636\n",
      "Validation Loss    : 0.38380002975463867\n",
      "Validation Accuracy: 0.877196935556557\n",
      "Validation ROC     : 0.460246219396376\n",
      "Epoch 6\n",
      ".......... Epoch:  6 , Bacth:  10 , loss: 0.2632232397794724 Average batch time: 132.48531739711763 secs\n",
      ".......... Epoch:  6 , Bacth:  20 , loss: 0.28158686459064486 Average batch time: 68.816153383255 secs\n",
      "........\n",
      "Epoch              : 6/10\n",
      "Training Loss      : 0.28224771256957737\n",
      "Validation Loss    : 0.3885171115398407\n",
      "Validation Accuracy: 0.877196935556557\n",
      "Validation ROC     : 0.46066192672333545\n",
      "Epoch 7\n",
      ".......... Epoch:  7 , Bacth:  10 , loss: 0.26008703112602233 Average batch time: 156.4202556848526 secs\n",
      ".......... Epoch:  7 , Bacth:  20 , loss: 0.28039681613445283 Average batch time: 80.78371707201003 secs\n",
      "........\n",
      "Epoch              : 7/10\n",
      "Training Loss      : 0.2816007712057659\n",
      "Validation Loss    : 0.4029986262321472\n",
      "Validation Accuracy: 0.877196935556557\n",
      "Validation ROC     : 0.4607445850821399\n",
      "Epoch 8\n",
      ".......... Epoch:  8 , Bacth:  10 , loss: 0.2565401643514633 Average batch time: 180.8480150938034 secs\n",
      ".......... Epoch:  8 , Bacth:  20 , loss: 0.27788136899471283 Average batch time: 93.06932944059372 secs\n",
      "........\n",
      "Epoch              : 8/10\n",
      "Training Loss      : 0.27910016956073896\n",
      "Validation Loss    : 0.40267354249954224\n",
      "Validation Accuracy: 0.877196935556557\n",
      "Validation ROC     : 0.460179468205695\n",
      "Epoch 9\n",
      ".......... Epoch:  9 , Bacth:  10 , loss: 0.2548694148659706 Average batch time: 205.58190095424652 secs\n",
      ".......... Epoch:  9 , Bacth:  20 , loss: 0.2769238747656345 Average batch time: 105.58572458028793 secs\n",
      "........\n",
      "Epoch              : 9/10\n",
      "Training Loss      : 0.27806084070886883\n",
      "Validation Loss    : 0.3957953453063965\n",
      "Validation Accuracy: 0.877196935556557\n",
      "Validation ROC     : 0.4603107907158697\n",
      "Epoch 10\n",
      ".......... Epoch: 10 , Bacth:  10 , loss: 0.25520980060100557 Average batch time: 232.28858351707458 secs\n",
      ".......... Epoch: 10 , Bacth:  20 , loss: 0.27702059149742125 Average batch time: 119.05584236383439 secs\n",
      "........\n",
      "Epoch              : 10/10\n",
      "Training Loss      : 0.27823500654527117\n",
      "Validation Loss    : 0.3960771858692169\n",
      "Validation Accuracy: 0.877196935556557\n",
      "Validation ROC     : 0.4636299686334211\n",
      "Training Finished. Total time: 2481.1510548591614 secs.\n",
      "Model Saved at: ../data/raw\\SimpleNet_10epoch.pth\n"
     ]
    }
   ],
   "source": [
    "model.run(disease_filter_list=['Atelectasis'],position_filter_list=['PA'])"
   ]
  },
  {
   "cell_type": "code",
   "execution_count": null,
   "metadata": {},
   "outputs": [],
   "source": [
    "model.run(num_epochs=50)"
   ]
  }
 ],
 "metadata": {
  "kernelspec": {
   "display_name": "Python 3",
   "language": "python",
   "name": "python3"
  },
  "language_info": {
   "codemirror_mode": {
    "name": "ipython",
    "version": 3
   },
   "file_extension": ".py",
   "mimetype": "text/x-python",
   "name": "python",
   "nbconvert_exporter": "python",
   "pygments_lexer": "ipython3",
   "version": "3.7.3"
  }
 },
 "nbformat": 4,
 "nbformat_minor": 2
}
