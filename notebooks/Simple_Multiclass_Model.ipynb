{
 "cells": [
  {
   "cell_type": "code",
   "execution_count": 1,
   "metadata": {},
   "outputs": [
    {
     "name": "stdout",
     "output_type": "stream",
     "text": [
      "Device: cuda Name: Quadro P1000\n"
     ]
    }
   ],
   "source": [
    "import sys  \n",
    "sys.path.insert(0, '../src')\n",
    "\n",
    "import config\n",
    "\n",
    "import data_processing as dp\n",
    "import dataset as ds\n",
    "import train_model as training\n",
    "\n",
    "import SimpleNet as net\n",
    "\n",
    "import torch\n",
    "import torch.nn as nn\n",
    "import torch.optim as optim"
   ]
  },
  {
   "cell_type": "code",
   "execution_count": 2,
   "metadata": {},
   "outputs": [],
   "source": [
    "# Filter on only 1 disease and image type = PA\n",
    "disease_filter_list=['Atelectasis']\n",
    "position_filter_list=['PA']"
   ]
  },
  {
   "cell_type": "code",
   "execution_count": 3,
   "metadata": {},
   "outputs": [],
   "source": [
    "# Load data using data preprocessing module\n",
    "df_data , labels      = dp.load_data(disease_filter_list=disease_filter_list,position_filter_list=position_filter_list)"
   ]
  },
  {
   "cell_type": "code",
   "execution_count": 4,
   "metadata": {},
   "outputs": [],
   "source": [
    "# Make Multihot vector for data\n",
    "df_data, dict_labels = dp.multi_hot_label(df_data, labels)\n",
    "\n",
    "# Split into train, validate and test split\n",
    "# Training set   = All training images * 80%\n",
    "# Validation set = All training images * 20%\n",
    "# Test set       = All test images\n",
    "\n",
    "df_train, df_test    = dp.make_train_test_split(df_data)   \n",
    "df_train, df_val     = dp.train_test_split(df_train)     "
   ]
  },
  {
   "cell_type": "code",
   "execution_count": 5,
   "metadata": {},
   "outputs": [],
   "source": [
    "# Make an instance of SimpleNet model\n",
    "# Any NN model can be instanciated\n",
    "model = net.make_SimpleNet_model(len(labels))"
   ]
  },
  {
   "cell_type": "code",
   "execution_count": 6,
   "metadata": {},
   "outputs": [],
   "source": [
    "# Define Loss and Optimizer\n",
    "criterion = nn.CrossEntropyLoss()  # change to CrossEntropyLoss if  multiclass\n",
    "optimizer = optim.Adam(model.parameters(), lr=config.LEARNING_RATE)"
   ]
  },
  {
   "cell_type": "code",
   "execution_count": 7,
   "metadata": {},
   "outputs": [],
   "source": [
    "# Create loaders for NIH data using dataset module\n",
    "train_data_loader = ds.load_data(df_train, transform=ds.data_transforms['train'], shuffle=False, batch_size=config.TRAIN_BATCH_SIZE, num_workers=config.TRAIN_WORKERS)\n",
    "val_data_loader   = ds.load_data(df_val  , transform=ds.data_transforms['test'] , shuffle=False, batch_size=config.VAL_BATCH_SIZE  , num_workers=config.VAL_WORKERS)"
   ]
  },
  {
   "cell_type": "code",
   "execution_count": 8,
   "metadata": {},
   "outputs": [
    {
     "name": "stdout",
     "output_type": "stream",
     "text": [
      "Num Classes       : 1\n",
      "Target Class List : ['Atelectasis']\n",
      "\n",
      "Training started\n",
      "    Mode          : cuda\n",
      "    Model type    : <class 'SimpleNet.SimpleNet'>\n",
      "Epoch 1\n",
      ".......... Epoch:  1 , Bacth:  10 , loss: 0.6394099056720733 Average batch time: 8.45171582698822 secs\n",
      ".......... Epoch:  1 , Bacth:  20 , loss: 0.5461522206664086 Average batch time: 7.1053554773330685 secs\n",
      "..\n",
      "Epoch              : 1/10\n",
      "Training Loss      : 0.5277532339096069\n",
      "Validation Loss    : 0.2797892093658447\n",
      "Validation Accuracy: 0.9230632393489282\n",
      "Validation ROC     : 0.514570506529486\n",
      "Epoch 2\n",
      ".......... Epoch:  2 , Bacth:  10 , loss: 0.2986604362726212 Average batch time: 30.174270367622377 secs\n",
      ".......... Epoch:  2 , Bacth:  20 , loss: 0.2951403558254242 Average batch time: 18.18978496789932 secs\n",
      "..\n",
      "Epoch              : 2/10\n",
      "Training Loss      : 0.29457906701348047\n",
      "Validation Loss    : 0.27234822511672974\n",
      "Validation Accuracy: 0.9230632393489282\n",
      "Validation ROC     : 0.47648137400481455\n",
      "Epoch 3\n",
      ".......... Epoch:  3 , Bacth:  10 , loss: 0.28400821089744566 Average batch time: 53.27046763896942 secs\n",
      ".......... Epoch:  3 , Bacth:  20 , loss: 0.2846231788396835 Average batch time: 29.810017359256744 secs\n",
      "..\n",
      "Epoch              : 3/10\n",
      "Training Loss      : 0.28438571095466614\n",
      "Validation Loss    : 0.27130866050720215\n",
      "Validation Accuracy: 0.9230632393489282\n",
      "Validation ROC     : 0.48093209624182776\n",
      "Epoch 4\n",
      ".......... Epoch:  4 , Bacth:  10 , loss: 0.2793725848197937 Average batch time: 77.7349666595459 secs\n",
      ".......... Epoch:  4 , Bacth:  20 , loss: 0.2799013018608093 Average batch time: 41.91763581037522 secs\n",
      "..\n",
      "Epoch              : 4/10\n",
      "Training Loss      : 0.28038082475012\n",
      "Validation Loss    : 0.271259069442749\n",
      "Validation Accuracy: 0.9230632393489282\n",
      "Validation ROC     : 0.4832818868727422\n",
      "Epoch 5\n",
      ".......... Epoch:  5 , Bacth:  10 , loss: 0.2767834633588791 Average batch time: 99.60388922691345 secs\n",
      ".......... Epoch:  5 , Bacth:  20 , loss: 0.27868496626615524 Average batch time: 52.688056552410124 secs\n",
      "..\n",
      "Epoch              : 5/10\n",
      "Training Loss      : 0.27873456613583997\n",
      "Validation Loss    : 0.2712517976760864\n",
      "Validation Accuracy: 0.9230632393489282\n",
      "Validation ROC     : 0.486184536653236\n",
      "Epoch 6\n",
      ".......... Epoch:  6 , Bacth:  10 , loss: 0.2762400835752487 Average batch time: 121.128200507164 secs\n",
      ".......... Epoch:  6 , Bacth:  20 , loss: 0.2777417555451393 Average batch time: 63.413512921333314 secs\n",
      "..\n",
      "Epoch              : 6/10\n",
      "Training Loss      : 0.2779651081020182\n",
      "Validation Loss    : 0.2713645100593567\n",
      "Validation Accuracy: 0.9230632393489282\n",
      "Validation ROC     : 0.48908250779494644\n",
      "Epoch 7\n",
      ".......... Epoch:  7 , Bacth:  10 , loss: 0.2775842070579529 Average batch time: 142.42358856201173 secs\n",
      ".......... Epoch:  7 , Bacth:  20 , loss: 0.2783014550805092 Average batch time: 74.03851743936539 secs\n",
      "..\n",
      "Epoch              : 7/10\n",
      "Training Loss      : 0.2783313867720691\n",
      "Validation Loss    : 0.27195408940315247\n",
      "Validation Accuracy: 0.9230632393489282\n",
      "Validation ROC     : 0.49197451924201596\n",
      "Epoch 8\n",
      ".......... Epoch:  8 , Bacth:  10 , loss: 0.27648578584194183 Average batch time: 162.91198165416716 secs\n",
      ".......... Epoch:  8 , Bacth:  20 , loss: 0.277660471200943 Average batch time: 84.1656488776207 secs\n",
      "..\n",
      "Epoch              : 8/10\n",
      "Training Loss      : 0.27780090272426605\n",
      "Validation Loss    : 0.271259605884552\n",
      "Validation Accuracy: 0.9230632393489282\n",
      "Validation ROC     : 0.48983231535807736\n",
      "Epoch 9\n",
      ".......... Epoch:  9 , Bacth:  10 , loss: 0.27514287531375886 Average batch time: 183.1472505569458 secs\n",
      ".......... Epoch:  9 , Bacth:  20 , loss: 0.2764652565121651 Average batch time: 94.27372641563416 secs\n",
      "..\n",
      "Epoch              : 9/10\n",
      "Training Loss      : 0.27673669159412384\n",
      "Validation Loss    : 0.27160340547561646\n",
      "Validation Accuracy: 0.9230632393489282\n",
      "Validation ROC     : 0.49173702262567437\n",
      "Epoch 10\n",
      ".......... Epoch: 10 , Bacth:  10 , loss: 0.2755291789770126 Average batch time: 205.16299238204957 secs\n",
      ".......... Epoch: 10 , Bacth:  20 , loss: 0.2766067162156105 Average batch time: 105.46954809427261 secs\n",
      "..\n",
      "Epoch              : 10/10\n",
      "Training Loss      : 0.2767705023288727\n",
      "Validation Loss    : 0.27123406529426575\n",
      "Validation Accuracy: 0.9230632393489282\n",
      "Validation ROC     : 0.49810994132764175\n",
      "Training Finished. Total time: 2172.2101624011993 secs.\n"
     ]
    }
   ],
   "source": [
    "# Train the model here\n",
    "# If multiple classes are selected while retreiving data, the training would train a multiclass model\n",
    "# else a single class model is trained\n",
    "print(f\"Num Classes       : {len(labels)}\")\n",
    "print(f\"Target Class List : {labels}\\n\")    \n",
    "\n",
    "# Start the training (Single Class, 10 epochs)\n",
    "trained_model = training.train_model(model, train_data_loader, val_data_loader, criterion, optimizer, num_epochs=10)"
   ]
  },
  {
   "cell_type": "code",
   "execution_count": 13,
   "metadata": {},
   "outputs": [
    {
     "name": "stdout",
     "output_type": "stream",
     "text": [
      "Model Saved at: ../model/SimpleNet_10epoch_1classes.pth\n"
     ]
    }
   ],
   "source": [
    "# Save the model\n",
    "training.save_model(trained_model,num_epochs=10,num_classes=1)"
   ]
  }
 ],
 "metadata": {
  "kernelspec": {
   "display_name": "Python 3",
   "language": "python",
   "name": "python3"
  },
  "language_info": {
   "codemirror_mode": {
    "name": "ipython",
    "version": 3
   },
   "file_extension": ".py",
   "mimetype": "text/x-python",
   "name": "python",
   "nbconvert_exporter": "python",
   "pygments_lexer": "ipython3",
   "version": "3.7.3"
  }
 },
 "nbformat": 4,
 "nbformat_minor": 2
}
