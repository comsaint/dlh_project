{
 "cells": [
  {
   "cell_type": "markdown",
   "metadata": {},
   "source": [
    "# Starter notebook for NIH Chest Xray"
   ]
  },
  {
   "cell_type": "markdown",
   "metadata": {},
   "source": [
    "## Copy data from GCS (if not so yet)"
   ]
  },
  {
   "cell_type": "code",
   "execution_count": 1,
   "metadata": {},
   "outputs": [],
   "source": [
    "# user-specific setting\n",
    "PROJECT = 'mcsds-dlh'  # CHANGE: billing project name (since the dataset is user-to-pay)\n",
    "DATA_FOLDER = 'data/raw/'"
   ]
  },
  {
   "cell_type": "code",
   "execution_count": 2,
   "metadata": {},
   "outputs": [],
   "source": [
    "# Download images from GCS. Takes a few minutes.\n",
    "# https://cloud.google.com/healthcare/docs/resources/public-datasets/nih-chest#gcp_data_access\n",
    "\n",
    "#!gsutil -u {PROJECT} -m -q cp -r gs://gcs-public-data--healthcare-nih-chest-xray/png/*.png {DATA_FOLDER}\n",
    "\n",
    "# Download addition labels\n",
    "# https://pubs.rsna.org/doi/10.1148/radiol.2019191293\n",
    "\n",
    "#!gsutil -u {PROJECT} -m -q cp -r gs://gcs-public-data--healthcare-nih-chest-xray-labels/* {DATA_FOLDER}"
   ]
  },
  {
   "cell_type": "markdown",
   "metadata": {},
   "source": [
    "# Code starts here"
   ]
  },
  {
   "cell_type": "code",
   "execution_count": 3,
   "metadata": {},
   "outputs": [
    {
     "name": "stdout",
     "output_type": "stream",
     "text": [
      "Device: cpu\n"
     ]
    }
   ],
   "source": [
    "# import libraries\n",
    "import pandas as pd\n",
    "import numpy as np\n",
    "import random\n",
    "import os\n",
    "import torch\n",
    "from torch.utils.data import Dataset\n",
    "import torchvision\n",
    "import torchvision.datasets as datasets\n",
    "import torchvision.transforms as transforms\n",
    "import torch.nn.functional as F\n",
    "from PIL import Image\n",
    "from sklearn.preprocessing import MultiLabelBinarizer\n",
    "import matplotlib.pyplot as plt\n",
    "import matplotlib.image as mpimg\n",
    "%matplotlib inline\n",
    "\n",
    "# check if CUDA is available (GPU)\n",
    "device = 'cuda' if torch.cuda.is_available() else 'cpu'\n",
    "print(f\"Device: {device}\")"
   ]
  },
  {
   "cell_type": "code",
   "execution_count": 4,
   "metadata": {},
   "outputs": [],
   "source": [
    "# set seed\n",
    "seed = 42\n",
    "random.seed(seed)\n",
    "np.random.seed(seed)\n",
    "torch.manual_seed(seed)\n",
    "os.environ[\"PYTHONHASHSEED\"] = str(seed)"
   ]
  },
  {
   "cell_type": "code",
   "execution_count": 5,
   "metadata": {},
   "outputs": [
    {
     "name": "stdout",
     "output_type": "stream",
     "text": [
      "Number of images: 112120\n",
      "Number of labels: 15\n",
      "Labels: {'Atelectasis', 'Infiltration', 'Hernia', 'Pneumothorax', 'Edema', 'Consolidation', 'No Finding', 'Pleural_Thickening', 'Cardiomegaly', 'Effusion', 'Nodule', 'Emphysema', 'Pneumonia', 'Mass', 'Fibrosis'}\n"
     ]
    },
    {
     "data": {
      "text/html": [
       "<div>\n",
       "<style scoped>\n",
       "    .dataframe tbody tr th:only-of-type {\n",
       "        vertical-align: middle;\n",
       "    }\n",
       "\n",
       "    .dataframe tbody tr th {\n",
       "        vertical-align: top;\n",
       "    }\n",
       "\n",
       "    .dataframe thead th {\n",
       "        text-align: right;\n",
       "    }\n",
       "</style>\n",
       "<table border=\"1\" class=\"dataframe\">\n",
       "  <thead>\n",
       "    <tr style=\"text-align: right;\">\n",
       "      <th></th>\n",
       "      <th>Finding Labels</th>\n",

       "      <th>Atelectasis</th>\n",
       "      <th>Infiltration</th>\n",
       "      <th>Hernia</th>\n",
       "      <th>Pneumothorax</th>\n",
       "      <th>Edema</th>\n",
       "      <th>Consolidation</th>\n",
       "      <th>No Finding</th>\n",
       "      <th>Pleural_Thickening</th>\n",
       "      <th>Cardiomegaly</th>\n",
       "      <th>Effusion</th>\n",
       "      <th>Nodule</th>\n",
       "      <th>Emphysema</th>\n",
       "      <th>Pneumonia</th>\n",
       "      <th>Mass</th>\n",
       "      <th>Fibrosis</th>\n",
       "    </tr>\n",
       "  </thead>\n",
       "  <tbody>\n",
       "    <tr>\n",
       "      <th>0</th>\n",
       "      <td>Cardiomegaly</td>\n",
       "      <td>0</td>\n",
       "      <td>0</td>\n",
       "      <td>0</td>\n",
       "      <td>0</td>\n",
       "      <td>0</td>\n",
       "      <td>0</td>\n",
       "      <td>0</td>\n",
       "      <td>0</td>\n",
       "      <td>1</td>\n",
       "      <td>0</td>\n",
       "      <td>0</td>\n",
       "      <td>0</td>\n",
       "      <td>0</td>\n",
       "      <td>0</td>\n",
       "      <td>0</td>\n",
       "    </tr>\n",
       "    <tr>\n",
       "      <th>1</th>\n",
       "      <td>Cardiomegaly|Emphysema</td>\n",
       "      <td>0</td>\n",
       "      <td>0</td>\n",
       "      <td>0</td>\n",
       "      <td>0</td>\n",
       "      <td>0</td>\n",
       "      <td>1</td>\n",
       "      <td>0</td>\n",
       "      <td>0</td>\n",
       "      <td>1</td>\n",
       "      <td>0</td>\n",
       "      <td>0</td>\n",
       "      <td>1</td>\n",
       "      <td>0</td>\n",
       "      <td>0</td>\n",
       "      <td>0</td>\n",
       "    </tr>\n",
       "    <tr>\n",
       "      <th>2</th>\n",
       "      <td>Cardiomegaly|Effusion</td>\n",
       "      <td>0</td>\n",
       "      <td>0</td>\n",
       "      <td>0</td>\n",
       "      <td>0</td>\n",
       "      <td>0</td>\n",
       "      <td>0</td>\n",
       "      <td>0</td>\n",
       "      <td>0</td>\n",
       "      <td>1</td>\n",
       "      <td>1</td>\n",
       "      <td>0</td>\n",
       "      <td>0</td>\n",
       "      <td>0</td>\n",
       "      <td>0</td>\n",
       "      <td>1</td>\n",
       "    </tr>\n",
       "    <tr>\n",
       "      <th>3</th>\n",
       "      <td>No Finding</td>\n",
       "      <td>0</td>\n",
       "      <td>0</td>\n",
       "      <td>0</td>\n",
       "      <td>1</td>\n",
       "      <td>0</td>\n",
       "      <td>0</td>\n",
       "      <td>0</td>\n",
       "      <td>1</td>\n",
       "      <td>0</td>\n",
       "      <td>0</td>\n",
       "      <td>0</td>\n",
       "      <td>0</td>\n",
       "      <td>0</td>\n",
       "      <td>0</td>\n",
       "      <td>0</td>\n",
       "      <td>0</td>\n",
       "    </tr>\n",
       "    <tr>\n",
       "      <th>4</th>\n",
       "      <td>Hernia</td>\n",
       "      <td>0</td>\n",
       "      <td>0</td>\n",
       "      <td>1</td>\n",
       "      <td>0</td>\n",
       "      <td>0</td>\n",
       "      <td>0</td>\n",
       "      <td>0</td>\n",
       "      <td>0</td>\n",
       "      <td>0</td>\n",
       "      <td>0</td>\n",
       "      <td>0</td>\n",
       "      <td>0</td>\n",
       "      <td>0</td>\n",
       "      <td>0</td>\n",
       "      <td>0</td>\n",
       "    </tr>\n",
       "    <tr>\n",
       "      <th>5</th>\n",
       "      <td>Hernia</td>\n",
       "      <td>0</td>\n",
       "      <td>0</td>\n",
       "      <td>1</td>\n",
       "      <td>0</td>\n",
       "      <td>0</td>\n",
       "      <td>0</td>\n",
       "      <td>0</td>\n",
       "      <td>0</td>\n",
       "      <td>0</td>\n",
       "      <td>0</td>\n",
       "      <td>0</td>\n",
       "      <td>0</td>\n",
       "      <td>0</td>\n",
       "      <td>0</td>\n",
       "      <td>0</td>\n",
       "    </tr>\n",
       "    <tr>\n",
       "      <th>6</th>\n",
       "      <td>Hernia|Infiltration</td>\n",
       "      <td>0</td>\n",
       "      <td>1</td>\n",
       "      <td>1</td>\n",
       "      <td>0</td>\n",
       "      <td>0</td>\n",
       "      <td>0</td>\n",
       "      <td>0</td>\n",
       "      <td>0</td>\n",
       "      <td>0</td>\n",
       "      <td>0</td>\n",
       "      <td>0</td>\n",
       "      <td>0</td>\n",
       "      <td>1</td>\n",
       "      <td>1</td>\n",
       "      <td>0</td>\n",
       "      <td>0</td>\n",
       "      <td>0</td>\n",
       "    </tr>\n",
       "    <tr>\n",
       "      <th>7</th>\n",
       "      <td>Hernia</td>\n",
       "      <td>0</td>\n",
       "      <td>0</td>\n",
       "      <td>1</td>\n",
       "      <td>0</td>\n",
       "      <td>0</td>\n",
       "      <td>0</td>\n",
       "      <td>0</td>\n",
       "      <td>0</td>\n",
       "      <td>0</td>\n",
       "      <td>0</td>\n",
       "      <td>0</td>\n",
       "      <td>0</td>\n",
       "      <td>0</td>\n",
       "      <td>0</td>\n",
       "      <td>0</td>\n",
       "    </tr>\n",
       "    <tr>\n",
       "      <th>8</th>\n",
       "      <td>Hernia</td>\n",
       "      <td>0</td>\n",
       "      <td>0</td>\n",
       "      <td>1</td>\n",
       "      <td>0</td>\n",
       "      <td>0</td>\n",
       "      <td>0</td>\n",
       "      <td>0</td>\n",
       "      <td>0</td>\n",
       "      <td>0</td>\n",
       "      <td>0</td>\n",
       "      <td>0</td>\n",
       "      <td>0</td>\n",
       "      <td>0</td>\n",
       "      <td>0</td>\n",
       "      <td>0</td>\n",
       "    </tr>\n",
       "    <tr>\n",
       "      <th>9</th>\n",
       "      <td>Hernia</td>\n",
       "      <td>0</td>\n",
       "      <td>0</td>\n",
       "      <td>1</td>\n",
       "      <td>0</td>\n",
       "      <td>0</td>\n",
       "      <td>0</td>\n",
       "      <td>0</td>\n",
       "      <td>0</td>\n",
       "      <td>0</td>\n",
       "      <td>0</td>\n",
       "      <td>0</td>\n",
       "      <td>0</td>\n",
       "      <td>0</td>\n",
       "      <td>0</td>\n",
       "      <td>0</td>\n",
       "    </tr>\n",
       "  </tbody>\n",
       "</table>\n",
       "</div>"
      ],
      "text/plain": [
      ]
     },
     "execution_count": 5,
     "metadata": {},
     "output_type": "execute_result"
    }
   ],
   "source": [
    "# explore the dataset\n",
    "# load train test split\n",
    "with open('train_val_list.txt') as f: \n",
    "    train_val_list = [x.strip() for x in f.readlines()]\n",
    "with open('test_list.txt') as f:\n",
    "    test_list = [x.strip() for x in f.readlines()]\n",
    "\n",
    "# load labels\n",
    "df_labels = pd.read_csv('Data_Entry_2017_v2020.csv')\n",
    "print(f\"Number of images: {len(df_labels)}\")\n",
    "# split the finding (disease) labels, to a list\n",
    "df_labels['targets'] = df_labels['Finding Labels'].str.split(\"|\", expand = False)\n",
    "# look at available labels\n",
    "labels = set([item for sublist in df_labels['targets'].tolist() for item in sublist])\n",
    "\n",
    "print(f\"Number of labels: {len(labels)}\")\n",
    "print(f\"Labels: {labels}\")\n",
    "\n",
    "# one-hot encode labels to columns\n",
    "mlb = MultiLabelBinarizer(sparse_output=True)\n",
    "\n",
    "df_labels = df_labels.join(\n",
    "            pd.DataFrame.sparse.from_spmatrix(\n",
    "                mlb.fit_transform(df_labels.pop('targets')),\n",
    "                index=df_labels.index,\n",
    "                columns=mlb.classes_))\n",
    "df_labels[list(labels)]=df_labels[list(labels)].sparse.to_dense()  # for easy .describe()\n",
    "\n",
    "# show converted data\n",
    "df_labels[['Finding Labels', *list(labels)]].head(10)"
   ]
  },
  {
   "cell_type": "code",
   "execution_count": 6,
   "metadata": {},
   "outputs": [
    {
     "data": {
      "text/html": [
       "<div>\n",
       "<style scoped>\n",
       "    .dataframe tbody tr th:only-of-type {\n",
       "        vertical-align: middle;\n",
       "    }\n",
       "\n",
       "    .dataframe tbody tr th {\n",
       "        vertical-align: top;\n",
       "    }\n",
       "\n",
       "    .dataframe thead th {\n",
       "        text-align: right;\n",
       "    }\n",
       "</style>\n",
       "<table border=\"1\" class=\"dataframe\">\n",
       "  <thead>\n",
       "    <tr style=\"text-align: right;\">\n",
       "      <th></th>\n",
       "      <th>Image Index</th>\n",
       "      <th>Finding Labels</th>\n",
       "      <th>Follow-up #</th>\n",
       "      <th>Patient ID</th>\n",
       "      <th>Patient Age</th>\n",
       "      <th>Patient Gender</th>\n",
       "      <th>View Position</th>\n",
       "      <th>OriginalImage[Width</th>\n",
       "      <th>Height]</th>\n",
       "      <th>OriginalImagePixelSpacing[x</th>\n",
       "      <th>...</th>\n",
       "      <th>Emphysema</th>\n",
       "      <th>Fibrosis</th>\n",
       "      <th>Hernia</th>\n",
       "      <th>Infiltration</th>\n",
       "      <th>Mass</th>\n",
       "      <th>No Finding</th>\n",
       "      <th>Nodule</th>\n",
       "      <th>Pleural_Thickening</th>\n",
       "      <th>Pneumonia</th>\n",
       "      <th>Pneumothorax</th>\n",
       "    </tr>\n",
       "  </thead>\n",
       "  <tbody>\n",
       "    <tr>\n",
       "      <th>count</th>\n",
       "      <td>112120</td>\n",
       "      <td>112120</td>\n",
       "      <td>112120.000000</td>\n",
       "      <td>112120.000000</td>\n",
       "      <td>112120.000000</td>\n",
       "      <td>112120</td>\n",
       "      <td>112120</td>\n",
       "      <td>112120.000000</td>\n",
       "      <td>112120.000000</td>\n",
       "      <td>112120.000000</td>\n",
       "      <td>...</td>\n",
       "      <td>112120.000000</td>\n",
       "      <td>112120.000000</td>\n",
       "      <td>112120.000000</td>\n",
       "      <td>112120.000000</td>\n",
       "      <td>112120.000000</td>\n",
       "      <td>112120.000000</td>\n",
       "      <td>112120.000000</td>\n",
       "      <td>112120.000000</td>\n",
       "      <td>112120.000000</td>\n",
       "      <td>112120.000000</td>\n",
       "    </tr>\n",
       "    <tr>\n",
       "      <th>unique</th>\n",
       "      <td>112120</td>\n",
       "      <td>836</td>\n",
       "      <td>NaN</td>\n",
       "      <td>NaN</td>\n",
       "      <td>NaN</td>\n",
       "      <td>2</td>\n",
       "      <td>2</td>\n",
       "      <td>NaN</td>\n",
       "      <td>NaN</td>\n",
       "      <td>NaN</td>\n",
       "      <td>...</td>\n",
       "      <td>NaN</td>\n",
       "      <td>NaN</td>\n",
       "      <td>NaN</td>\n",
       "      <td>NaN</td>\n",
       "      <td>NaN</td>\n",
       "      <td>NaN</td>\n",
       "      <td>NaN</td>\n",
       "      <td>NaN</td>\n",
       "      <td>NaN</td>\n",
       "      <td>NaN</td>\n",
       "    </tr>\n",
       "    <tr>\n",
       "      <th>top</th>\n",
       "      <td>00025730_000.png</td>\n",
       "      <td>No Finding</td>\n",
       "      <td>NaN</td>\n",
       "      <td>NaN</td>\n",
       "      <td>NaN</td>\n",
       "      <td>M</td>\n",
       "      <td>PA</td>\n",
       "      <td>NaN</td>\n",
       "      <td>NaN</td>\n",
       "      <td>NaN</td>\n",
       "      <td>...</td>\n",
       "      <td>NaN</td>\n",
       "      <td>NaN</td>\n",
       "      <td>NaN</td>\n",
       "      <td>NaN</td>\n",
       "      <td>NaN</td>\n",
       "      <td>NaN</td>\n",
       "      <td>NaN</td>\n",
       "      <td>NaN</td>\n",
       "      <td>NaN</td>\n",
       "      <td>NaN</td>\n",
       "    </tr>\n",
       "    <tr>\n",
       "      <th>freq</th>\n",
       "      <td>1</td>\n",
       "      <td>60361</td>\n",
       "      <td>NaN</td>\n",
       "      <td>NaN</td>\n",
       "      <td>NaN</td>\n",
       "      <td>63340</td>\n",
       "      <td>67310</td>\n",
       "      <td>NaN</td>\n",
       "      <td>NaN</td>\n",
       "      <td>NaN</td>\n",
       "      <td>...</td>\n",
       "      <td>NaN</td>\n",
       "      <td>NaN</td>\n",
       "      <td>NaN</td>\n",
       "      <td>NaN</td>\n",
       "      <td>NaN</td>\n",
       "      <td>NaN</td>\n",
       "      <td>NaN</td>\n",
       "      <td>NaN</td>\n",
       "      <td>NaN</td>\n",
       "      <td>NaN</td>\n",
       "    </tr>\n",
       "    <tr>\n",
       "      <th>mean</th>\n",
       "      <td>NaN</td>\n",
       "      <td>NaN</td>\n",
       "      <td>8.573751</td>\n",
       "      <td>14346.381743</td>\n",
       "      <td>46.626365</td>\n",
       "      <td>NaN</td>\n",
       "      <td>NaN</td>\n",
       "      <td>2646.078844</td>\n",
       "      <td>2486.438842</td>\n",
       "      <td>0.155649</td>\n",
       "      <td>...</td>\n",
       "      <td>0.022440</td>\n",
       "      <td>0.015037</td>\n",
       "      <td>0.002025</td>\n",
       "      <td>0.177435</td>\n",
       "      <td>0.051570</td>\n",
       "      <td>0.538361</td>\n",
       "      <td>0.056466</td>\n",
       "      <td>0.030191</td>\n",
       "      <td>0.012763</td>\n",
       "      <td>0.047289</td>\n",
       "    </tr>\n",
       "    <tr>\n",
       "      <th>std</th>\n",
       "      <td>NaN</td>\n",
       "      <td>NaN</td>\n",
       "      <td>15.406320</td>\n",
       "      <td>8403.876972</td>\n",
       "      <td>16.602680</td>\n",
       "      <td>NaN</td>\n",
       "      <td>NaN</td>\n",
       "      <td>341.246429</td>\n",
       "      <td>401.268227</td>\n",
       "      <td>0.016174</td>\n",
       "      <td>...</td>\n",
       "      <td>0.148111</td>\n",
       "      <td>0.121702</td>\n",
       "      <td>0.044950</td>\n",
       "      <td>0.382038</td>\n",
       "      <td>0.221158</td>\n",
       "      <td>0.498529</td>\n",
       "      <td>0.230821</td>\n",
       "      <td>0.171113</td>\n",
       "      <td>0.112251</td>\n",
       "      <td>0.212256</td>\n",
       "    </tr>\n",
       "    <tr>\n",
       "      <th>min</th>\n",
       "      <td>NaN</td>\n",
       "      <td>NaN</td>\n",
       "      <td>0.000000</td>\n",
       "      <td>1.000000</td>\n",
       "      <td>0.000000</td>\n",
       "      <td>NaN</td>\n",
       "      <td>NaN</td>\n",
       "      <td>1143.000000</td>\n",
       "      <td>966.000000</td>\n",
       "      <td>0.115000</td>\n",
       "      <td>...</td>\n",
       "      <td>0.000000</td>\n",
       "      <td>0.000000</td>\n",
       "      <td>0.000000</td>\n",
       "      <td>0.000000</td>\n",
       "      <td>0.000000</td>\n",
       "      <td>0.000000</td>\n",
       "      <td>0.000000</td>\n",
       "      <td>0.000000</td>\n",
       "      <td>0.000000</td>\n",
       "      <td>0.000000</td>\n",
       "    </tr>\n",
       "    <tr>\n",
       "      <th>25%</th>\n",
       "      <td>NaN</td>\n",
       "      <td>NaN</td>\n",
       "      <td>0.000000</td>\n",
       "      <td>7310.750000</td>\n",
       "      <td>34.000000</td>\n",
       "      <td>NaN</td>\n",
       "      <td>NaN</td>\n",
       "      <td>2500.000000</td>\n",
       "      <td>2048.000000</td>\n",
       "      <td>0.143000</td>\n",
       "      <td>...</td>\n",
       "      <td>0.000000</td>\n",
       "      <td>0.000000</td>\n",
       "      <td>0.000000</td>\n",
       "      <td>0.000000</td>\n",
       "      <td>0.000000</td>\n",
       "      <td>0.000000</td>\n",
       "      <td>0.000000</td>\n",
       "      <td>0.000000</td>\n",
       "      <td>0.000000</td>\n",
       "      <td>0.000000</td>\n",
       "    </tr>\n",
       "    <tr>\n",
       "      <th>50%</th>\n",
       "      <td>NaN</td>\n",
       "      <td>NaN</td>\n",
       "      <td>3.000000</td>\n",
       "      <td>13993.000000</td>\n",
       "      <td>49.000000</td>\n",
       "      <td>NaN</td>\n",
       "      <td>NaN</td>\n",
       "      <td>2518.000000</td>\n",
       "      <td>2544.000000</td>\n",
       "      <td>0.143000</td>\n",
       "      <td>...</td>\n",
       "      <td>0.000000</td>\n",
       "      <td>0.000000</td>\n",
       "      <td>0.000000</td>\n",
       "      <td>0.000000</td>\n",
       "      <td>0.000000</td>\n",
       "      <td>1.000000</td>\n",
       "      <td>0.000000</td>\n",
       "      <td>0.000000</td>\n",
       "      <td>0.000000</td>\n",
       "      <td>0.000000</td>\n",
       "    </tr>\n",
       "    <tr>\n",
       "      <th>75%</th>\n",
       "      <td>NaN</td>\n",
       "      <td>NaN</td>\n",
       "      <td>10.000000</td>\n",
       "      <td>20673.000000</td>\n",
       "      <td>59.000000</td>\n",
       "      <td>NaN</td>\n",
       "      <td>NaN</td>\n",
       "      <td>2992.000000</td>\n",
       "      <td>2991.000000</td>\n",
       "      <td>0.168000</td>\n",
       "      <td>...</td>\n",
       "      <td>0.000000</td>\n",
       "      <td>0.000000</td>\n",
       "      <td>0.000000</td>\n",
       "      <td>0.000000</td>\n",
       "      <td>0.000000</td>\n",
       "      <td>1.000000</td>\n",
       "      <td>0.000000</td>\n",
       "      <td>0.000000</td>\n",
       "      <td>0.000000</td>\n",
       "      <td>0.000000</td>\n",
       "    </tr>\n",
       "    <tr>\n",
       "      <th>max</th>\n",
       "      <td>NaN</td>\n",
       "      <td>NaN</td>\n",
       "      <td>183.000000</td>\n",
       "      <td>30805.000000</td>\n",
       "      <td>95.000000</td>\n",
       "      <td>NaN</td>\n",
       "      <td>NaN</td>\n",
       "      <td>3827.000000</td>\n",
       "      <td>4715.000000</td>\n",
       "      <td>0.198800</td>\n",
       "      <td>...</td>\n",
       "      <td>1.000000</td>\n",
       "      <td>1.000000</td>\n",
       "      <td>1.000000</td>\n",
       "      <td>1.000000</td>\n",
       "      <td>1.000000</td>\n",
       "      <td>1.000000</td>\n",
       "      <td>1.000000</td>\n",
       "      <td>1.000000</td>\n",
       "      <td>1.000000</td>\n",
       "      <td>1.000000</td>\n",
       "    </tr>\n",
       "  </tbody>\n",
       "</table>\n",
       "<p>11 rows × 26 columns</p>\n",
       "</div>"
      ],
      "text/plain": [
       "             Image Index Finding Labels    Follow-up #     Patient ID  \\\n",
       "count             112120         112120  112120.000000  112120.000000   \n",
       "unique            112120            836            NaN            NaN   \n",
       "top     00025730_000.png     No Finding            NaN            NaN   \n",
       "freq                   1          60361            NaN            NaN   \n",
       "mean                 NaN            NaN       8.573751   14346.381743   \n",
       "std                  NaN            NaN      15.406320    8403.876972   \n",
       "min                  NaN            NaN       0.000000       1.000000   \n",
       "25%                  NaN            NaN       0.000000    7310.750000   \n",
       "50%                  NaN            NaN       3.000000   13993.000000   \n",
       "75%                  NaN            NaN      10.000000   20673.000000   \n",
       "max                  NaN            NaN     183.000000   30805.000000   \n",
       "\n",
       "          Patient Age Patient Gender View Position  OriginalImage[Width  \\\n",
       "count   112120.000000         112120        112120        112120.000000   \n",
       "unique            NaN              2             2                  NaN   \n",
       "top               NaN              M            PA                  NaN   \n",
       "freq              NaN          63340         67310                  NaN   \n",
       "mean        46.626365            NaN           NaN          2646.078844   \n",
       "std         16.602680            NaN           NaN           341.246429   \n",
       "min          0.000000            NaN           NaN          1143.000000   \n",
       "25%         34.000000            NaN           NaN          2500.000000   \n",
       "50%         49.000000            NaN           NaN          2518.000000   \n",
       "75%         59.000000            NaN           NaN          2992.000000   \n",
       "max         95.000000            NaN           NaN          3827.000000   \n",
       "\n",
       "              Height]  OriginalImagePixelSpacing[x  ...      Emphysema  \\\n",
       "count   112120.000000                112120.000000  ...  112120.000000   \n",
       "unique            NaN                          NaN  ...            NaN   \n",
       "top               NaN                          NaN  ...            NaN   \n",
       "freq              NaN                          NaN  ...            NaN   \n",
       "mean      2486.438842                     0.155649  ...       0.022440   \n",
       "std        401.268227                     0.016174  ...       0.148111   \n",
       "min        966.000000                     0.115000  ...       0.000000   \n",
       "25%       2048.000000                     0.143000  ...       0.000000   \n",
       "50%       2544.000000                     0.143000  ...       0.000000   \n",
       "75%       2991.000000                     0.168000  ...       0.000000   \n",
       "max       4715.000000                     0.198800  ...       1.000000   \n",
       "\n",
       "             Fibrosis         Hernia   Infiltration           Mass  \\\n",
       "count   112120.000000  112120.000000  112120.000000  112120.000000   \n",
       "unique            NaN            NaN            NaN            NaN   \n",
       "top               NaN            NaN            NaN            NaN   \n",
       "freq              NaN            NaN            NaN            NaN   \n",
       "mean         0.015037       0.002025       0.177435       0.051570   \n",
       "std          0.121702       0.044950       0.382038       0.221158   \n",
       "min          0.000000       0.000000       0.000000       0.000000   \n",
       "25%          0.000000       0.000000       0.000000       0.000000   \n",
       "50%          0.000000       0.000000       0.000000       0.000000   \n",
       "75%          0.000000       0.000000       0.000000       0.000000   \n",
       "max          1.000000       1.000000       1.000000       1.000000   \n",
       "\n",
       "           No Finding         Nodule  Pleural_Thickening      Pneumonia  \\\n",
       "count   112120.000000  112120.000000       112120.000000  112120.000000   \n",
       "unique            NaN            NaN                 NaN            NaN   \n",
       "top               NaN            NaN                 NaN            NaN   \n",
       "freq              NaN            NaN                 NaN            NaN   \n",
       "mean         0.538361       0.056466            0.030191       0.012763   \n",
       "std          0.498529       0.230821            0.171113       0.112251   \n",
       "min          0.000000       0.000000            0.000000       0.000000   \n",
       "25%          0.000000       0.000000            0.000000       0.000000   \n",
       "50%          1.000000       0.000000            0.000000       0.000000   \n",
       "75%          1.000000       0.000000            0.000000       0.000000   \n",
       "max          1.000000       1.000000            1.000000       1.000000   \n",
       "\n",
       "         Pneumothorax  \n",
       "count   112120.000000  \n",
       "unique            NaN  \n",
       "top               NaN  \n",
       "freq              NaN  \n",
       "mean         0.047289  \n",
       "std          0.212256  \n",
       "min          0.000000  \n",
       "25%          0.000000  \n",
       "50%          0.000000  \n",
       "75%          0.000000  \n",
       "max          1.000000  \n",
       "\n",
       "[11 rows x 26 columns]"
      ]
     },
     "execution_count": 6,
     "metadata": {},
     "output_type": "execute_result"
    }
   ],
   "source": [
    "df_labels.describe(include='all')"
   ]
  },
  {
   "cell_type": "code",
   "execution_count": 7,
   "id": "appointed-upgrade",
   "metadata": {},
   "outputs": [
    {
     "name": "stdout",
     "output_type": "stream",
     "text": [
      "Number of train/val images: 86524\n",
      "Number of test images: 25596\n"
     ]
    }
   ],
   "source": [
    "# split into train_val and test sets\n",
    "df_train_val = df_labels[df_labels['Image Index'].isin(train_val_list)]\n",
    "df_test = df_labels[df_labels['Image Index'].isin(test_list)]\n",
    "\n",
    "print(f\"Number of train/val images: {len(df_train_val)}\")\n",
    "print(f\"Number of test images: {len(df_test)}\")\n",
    "\n",
    "assert (len(df_train_val) + len(df_test)) == len(df_labels), \"Total number of images does not equal to sum of train/val and test!\""
   ]
  },
  {
   "cell_type": "code",
   "execution_count": 9,
   "metadata": {},
   "outputs": [
    {
     "name": "stdout",
     "output_type": "stream",
     "text": [
      "00013685_059.png\n",
      "Image size: (1024, 1024)\n",
      "0.87058824 0.003921569\n",
      "49\n",
      "F\n",
      "AP\n"
     ]
    }
   ],
   "source": [
    "# read images\n",
    "import matplotlib.pyplot as plt\n",
    "import matplotlib.image as mpimg\n",
    "i=54756\n",
    "\n",
    "print(df_labels['Image Index'][i])\n",
    "path_to_img = os.path.join('../data/raw/images', df_labels['Image Index'][i])\n",
    "\n",
    "img=mpimg.imread(path_to_img)\n",
    "print(f\"Image size: {img.shape}\")  # 2D\n",
    "print(img.max(), img.min())  # grayscale [0.0, 1.0]\n",
    "print(df_labels['Patient Age'][i])\n",
    "print(df_labels['Patient Gender'][i])\n",
    "print(df_labels['View Position'][i])  # only AP/PA, no lateral\n",
    "# Plot an image\n",
    "imgplot = plt.imshow(img, cmap='gray')"
   ]
  },
  {
   "cell_type": "markdown",
   "metadata": {},
   "source": [
    "Take the label *Atelectasis* as pivot, let's build a classifier for it.\n",
    "\n",
    "Settings:\n",
    "1. Consider only PA view images.\n",
    "2. Binary classification."
   ]
  },
  {
   "cell_type": "code",
   "execution_count": 10,
   "metadata": {},
   "outputs": [],
   "source": [
    "disease = 'Atelectasis'"
   ]
  },
  {
   "cell_type": "code",
   "execution_count": 11,
   "metadata": {},
   "outputs": [
    {
     "data": {
      "text/html": [
       "<div>\n",
       "<style scoped>\n",
       "    .dataframe tbody tr th:only-of-type {\n",
       "        vertical-align: middle;\n",
       "    }\n",
       "\n",
       "    .dataframe tbody tr th {\n",
       "        vertical-align: top;\n",
       "    }\n",
       "\n",
       "    .dataframe thead th {\n",
       "        text-align: right;\n",
       "    }\n",
       "</style>\n",
       "<table border=\"1\" class=\"dataframe\">\n",
       "  <thead>\n",
       "    <tr style=\"text-align: right;\">\n",
       "      <th></th>\n",
       "      <th>Image Index</th>\n",
       "      <th>Finding Labels</th>\n",
       "      <th>Follow-up #</th>\n",
       "      <th>Patient ID</th>\n",
       "      <th>Patient Age</th>\n",
       "      <th>Patient Gender</th>\n",
       "      <th>View Position</th>\n",
       "      <th>OriginalImage[Width</th>\n",
       "      <th>Height]</th>\n",
       "      <th>OriginalImagePixelSpacing[x</th>\n",
       "      <th>...</th>\n",
       "      <th>Emphysema</th>\n",
       "      <th>Fibrosis</th>\n",
       "      <th>Hernia</th>\n",
       "      <th>Infiltration</th>\n",
       "      <th>Mass</th>\n",
       "      <th>No Finding</th>\n",
       "      <th>Nodule</th>\n",
       "      <th>Pleural_Thickening</th>\n",
       "      <th>Pneumonia</th>\n",
       "      <th>Pneumothorax</th>\n",
       "    </tr>\n",
       "  </thead>\n",
       "  <tbody>\n",
       "    <tr>\n",
       "      <th>count</th>\n",
       "      <td>112120</td>\n",
       "      <td>112120</td>\n",
       "      <td>112120.000000</td>\n",
       "      <td>112120.000000</td>\n",
       "      <td>112120.000000</td>\n",
       "      <td>112120</td>\n",
       "      <td>112120</td>\n",
       "      <td>112120.000000</td>\n",
       "      <td>112120.000000</td>\n",
       "      <td>112120.000000</td>\n",
       "      <td>...</td>\n",
       "      <td>112120.000000</td>\n",
       "      <td>112120.000000</td>\n",
       "      <td>112120.000000</td>\n",
       "      <td>112120.000000</td>\n",
       "      <td>112120.000000</td>\n",
       "      <td>112120.000000</td>\n",
       "      <td>112120.000000</td>\n",
       "      <td>112120.000000</td>\n",
       "      <td>112120.000000</td>\n",
       "      <td>112120.000000</td>\n",
       "    </tr>\n",
       "    <tr>\n",
       "      <th>unique</th>\n",
       "      <td>112120</td>\n",
       "      <td>836</td>\n",
       "      <td>NaN</td>\n",
       "      <td>NaN</td>\n",
       "      <td>NaN</td>\n",
       "      <td>2</td>\n",
       "      <td>2</td>\n",
       "      <td>NaN</td>\n",
       "      <td>NaN</td>\n",
       "      <td>NaN</td>\n",
       "      <td>...</td>\n",
       "      <td>NaN</td>\n",
       "      <td>NaN</td>\n",
       "      <td>NaN</td>\n",
       "      <td>NaN</td>\n",
       "      <td>NaN</td>\n",
       "      <td>NaN</td>\n",
       "      <td>NaN</td>\n",
       "      <td>NaN</td>\n",
       "      <td>NaN</td>\n",
       "      <td>NaN</td>\n",
       "    </tr>\n",
       "    <tr>\n",
       "      <th>top</th>\n",
       "      <td>00025730_000.png</td>\n",
       "      <td>No Finding</td>\n",
       "      <td>NaN</td>\n",
       "      <td>NaN</td>\n",
       "      <td>NaN</td>\n",
       "      <td>M</td>\n",
       "      <td>PA</td>\n",
       "      <td>NaN</td>\n",
       "      <td>NaN</td>\n",
       "      <td>NaN</td>\n",
       "      <td>...</td>\n",
       "      <td>NaN</td>\n",
       "      <td>NaN</td>\n",
       "      <td>NaN</td>\n",
       "      <td>NaN</td>\n",
       "      <td>NaN</td>\n",
       "      <td>NaN</td>\n",
       "      <td>NaN</td>\n",
       "      <td>NaN</td>\n",
       "      <td>NaN</td>\n",
       "      <td>NaN</td>\n",
       "    </tr>\n",
       "    <tr>\n",
       "      <th>freq</th>\n",
       "      <td>1</td>\n",
       "      <td>60361</td>\n",
       "      <td>NaN</td>\n",
       "      <td>NaN</td>\n",
       "      <td>NaN</td>\n",
       "      <td>63340</td>\n",
       "      <td>67310</td>\n",
       "      <td>NaN</td>\n",
       "      <td>NaN</td>\n",
       "      <td>NaN</td>\n",
       "      <td>...</td>\n",
       "      <td>NaN</td>\n",
       "      <td>NaN</td>\n",
       "      <td>NaN</td>\n",
       "      <td>NaN</td>\n",
       "      <td>NaN</td>\n",
       "      <td>NaN</td>\n",
       "      <td>NaN</td>\n",
       "      <td>NaN</td>\n",
       "      <td>NaN</td>\n",
       "      <td>NaN</td>\n",
       "    </tr>\n",
       "    <tr>\n",
       "      <th>mean</th>\n",
       "      <td>NaN</td>\n",
       "      <td>NaN</td>\n",
       "      <td>8.573751</td>\n",
       "      <td>14346.381743</td>\n",
       "      <td>46.626365</td>\n",
       "      <td>NaN</td>\n",
       "      <td>NaN</td>\n",
       "      <td>2646.078844</td>\n",
       "      <td>2486.438842</td>\n",
       "      <td>0.155649</td>\n",
       "      <td>...</td>\n",
       "      <td>0.022440</td>\n",
       "      <td>0.015037</td>\n",
       "      <td>0.002025</td>\n",
       "      <td>0.177435</td>\n",
       "      <td>0.051570</td>\n",
       "      <td>0.538361</td>\n",
       "      <td>0.056466</td>\n",
       "      <td>0.030191</td>\n",
       "      <td>0.012763</td>\n",
       "      <td>0.047289</td>\n",
       "    </tr>\n",
       "    <tr>\n",
       "      <th>std</th>\n",
       "      <td>NaN</td>\n",
       "      <td>NaN</td>\n",
       "      <td>15.406320</td>\n",
       "      <td>8403.876972</td>\n",
       "      <td>16.602680</td>\n",
       "      <td>NaN</td>\n",
       "      <td>NaN</td>\n",
       "      <td>341.246429</td>\n",
       "      <td>401.268227</td>\n",
       "      <td>0.016174</td>\n",
       "      <td>...</td>\n",
       "      <td>0.148111</td>\n",
       "      <td>0.121702</td>\n",
       "      <td>0.044950</td>\n",
       "      <td>0.382038</td>\n",
       "      <td>0.221158</td>\n",
       "      <td>0.498529</td>\n",
       "      <td>0.230821</td>\n",
       "      <td>0.171113</td>\n",
       "      <td>0.112251</td>\n",
       "      <td>0.212256</td>\n",
       "    </tr>\n",
       "    <tr>\n",
       "      <th>min</th>\n",
       "      <td>NaN</td>\n",
       "      <td>NaN</td>\n",
       "      <td>0.000000</td>\n",
       "      <td>1.000000</td>\n",
       "      <td>0.000000</td>\n",
       "      <td>NaN</td>\n",
       "      <td>NaN</td>\n",
       "      <td>1143.000000</td>\n",
       "      <td>966.000000</td>\n",
       "      <td>0.115000</td>\n",
       "      <td>...</td>\n",
       "      <td>0.000000</td>\n",
       "      <td>0.000000</td>\n",
       "      <td>0.000000</td>\n",
       "      <td>0.000000</td>\n",
       "      <td>0.000000</td>\n",
       "      <td>0.000000</td>\n",
       "      <td>0.000000</td>\n",
       "      <td>0.000000</td>\n",
       "      <td>0.000000</td>\n",
       "      <td>0.000000</td>\n",
       "    </tr>\n",
       "    <tr>\n",
       "      <th>25%</th>\n",
       "      <td>NaN</td>\n",
       "      <td>NaN</td>\n",
       "      <td>0.000000</td>\n",
       "      <td>7310.750000</td>\n",
       "      <td>34.000000</td>\n",
       "      <td>NaN</td>\n",
       "      <td>NaN</td>\n",
       "      <td>2500.000000</td>\n",
       "      <td>2048.000000</td>\n",
       "      <td>0.143000</td>\n",
       "      <td>...</td>\n",
       "      <td>0.000000</td>\n",
       "      <td>0.000000</td>\n",
       "      <td>0.000000</td>\n",
       "      <td>0.000000</td>\n",
       "      <td>0.000000</td>\n",
       "      <td>0.000000</td>\n",
       "      <td>0.000000</td>\n",
       "      <td>0.000000</td>\n",
       "      <td>0.000000</td>\n",
       "      <td>0.000000</td>\n",
       "    </tr>\n",
       "    <tr>\n",
       "      <th>50%</th>\n",
       "      <td>NaN</td>\n",
       "      <td>NaN</td>\n",
       "      <td>3.000000</td>\n",
       "      <td>13993.000000</td>\n",
       "      <td>49.000000</td>\n",
       "      <td>NaN</td>\n",
       "      <td>NaN</td>\n",
       "      <td>2518.000000</td>\n",
       "      <td>2544.000000</td>\n",
       "      <td>0.143000</td>\n",
       "      <td>...</td>\n",
       "      <td>0.000000</td>\n",
       "      <td>0.000000</td>\n",
       "      <td>0.000000</td>\n",
       "      <td>0.000000</td>\n",
       "      <td>0.000000</td>\n",
       "      <td>1.000000</td>\n",
       "      <td>0.000000</td>\n",
       "      <td>0.000000</td>\n",
       "      <td>0.000000</td>\n",
       "      <td>0.000000</td>\n",
       "    </tr>\n",
       "    <tr>\n",
       "      <th>75%</th>\n",
       "      <td>NaN</td>\n",
       "      <td>NaN</td>\n",
       "      <td>10.000000</td>\n",
       "      <td>20673.000000</td>\n",
       "      <td>59.000000</td>\n",
       "      <td>NaN</td>\n",
       "      <td>NaN</td>\n",
       "      <td>2992.000000</td>\n",
       "      <td>2991.000000</td>\n",
       "      <td>0.168000</td>\n",
       "      <td>...</td>\n",
       "      <td>0.000000</td>\n",
       "      <td>0.000000</td>\n",
       "      <td>0.000000</td>\n",
       "      <td>0.000000</td>\n",
       "      <td>0.000000</td>\n",
       "      <td>1.000000</td>\n",
       "      <td>0.000000</td>\n",
       "      <td>0.000000</td>\n",
       "      <td>0.000000</td>\n",
       "      <td>0.000000</td>\n",
       "    </tr>\n",
       "    <tr>\n",
       "      <th>max</th>\n",
       "      <td>NaN</td>\n",
       "      <td>NaN</td>\n",
       "      <td>183.000000</td>\n",
       "      <td>30805.000000</td>\n",
       "      <td>95.000000</td>\n",
       "      <td>NaN</td>\n",
       "      <td>NaN</td>\n",
       "      <td>3827.000000</td>\n",
       "      <td>4715.000000</td>\n",
       "      <td>0.198800</td>\n",
       "      <td>...</td>\n",
       "      <td>1.000000</td>\n",
       "      <td>1.000000</td>\n",
       "      <td>1.000000</td>\n",
       "      <td>1.000000</td>\n",
       "      <td>1.000000</td>\n",
       "      <td>1.000000</td>\n",
       "      <td>1.000000</td>\n",
       "      <td>1.000000</td>\n",
       "      <td>1.000000</td>\n",
       "      <td>1.000000</td>\n",
       "    </tr>\n",
       "  </tbody>\n",
       "</table>\n",
       "<p>11 rows × 26 columns</p>\n",
       "</div>"
      ],
      "text/plain": [
       "             Image Index Finding Labels    Follow-up #     Patient ID  \\\n",
       "count             112120         112120  112120.000000  112120.000000   \n",
       "unique            112120            836            NaN            NaN   \n",
       "top     00025730_000.png     No Finding            NaN            NaN   \n",
       "freq                   1          60361            NaN            NaN   \n",
       "mean                 NaN            NaN       8.573751   14346.381743   \n",
       "std                  NaN            NaN      15.406320    8403.876972   \n",
       "min                  NaN            NaN       0.000000       1.000000   \n",
       "25%                  NaN            NaN       0.000000    7310.750000   \n",
       "50%                  NaN            NaN       3.000000   13993.000000   \n",
       "75%                  NaN            NaN      10.000000   20673.000000   \n",
       "max                  NaN            NaN     183.000000   30805.000000   \n",
       "\n",
       "          Patient Age Patient Gender View Position  OriginalImage[Width  \\\n",
       "count   112120.000000         112120        112120        112120.000000   \n",
       "unique            NaN              2             2                  NaN   \n",
       "top               NaN              M            PA                  NaN   \n",
       "freq              NaN          63340         67310                  NaN   \n",
       "mean        46.626365            NaN           NaN          2646.078844   \n",
       "std         16.602680            NaN           NaN           341.246429   \n",
       "min          0.000000            NaN           NaN          1143.000000   \n",
       "25%         34.000000            NaN           NaN          2500.000000   \n",
       "50%         49.000000            NaN           NaN          2518.000000   \n",
       "75%         59.000000            NaN           NaN          2992.000000   \n",
       "max         95.000000            NaN           NaN          3827.000000   \n",
       "\n",
       "              Height]  OriginalImagePixelSpacing[x  ...      Emphysema  \\\n",
       "count   112120.000000                112120.000000  ...  112120.000000   \n",
       "unique            NaN                          NaN  ...            NaN   \n",
       "top               NaN                          NaN  ...            NaN   \n",
       "freq              NaN                          NaN  ...            NaN   \n",
       "mean      2486.438842                     0.155649  ...       0.022440   \n",
       "std        401.268227                     0.016174  ...       0.148111   \n",
       "min        966.000000                     0.115000  ...       0.000000   \n",
       "25%       2048.000000                     0.143000  ...       0.000000   \n",
       "50%       2544.000000                     0.143000  ...       0.000000   \n",
       "75%       2991.000000                     0.168000  ...       0.000000   \n",
       "max       4715.000000                     0.198800  ...       1.000000   \n",
       "\n",
       "             Fibrosis         Hernia   Infiltration           Mass  \\\n",
       "count   112120.000000  112120.000000  112120.000000  112120.000000   \n",
       "unique            NaN            NaN            NaN            NaN   \n",
       "top               NaN            NaN            NaN            NaN   \n",
       "freq              NaN            NaN            NaN            NaN   \n",
       "mean         0.015037       0.002025       0.177435       0.051570   \n",
       "std          0.121702       0.044950       0.382038       0.221158   \n",
       "min          0.000000       0.000000       0.000000       0.000000   \n",
       "25%          0.000000       0.000000       0.000000       0.000000   \n",
       "50%          0.000000       0.000000       0.000000       0.000000   \n",
       "75%          0.000000       0.000000       0.000000       0.000000   \n",
       "max          1.000000       1.000000       1.000000       1.000000   \n",
       "\n",
       "           No Finding         Nodule  Pleural_Thickening      Pneumonia  \\\n",
       "count   112120.000000  112120.000000       112120.000000  112120.000000   \n",
       "unique            NaN            NaN                 NaN            NaN   \n",
       "top               NaN            NaN                 NaN            NaN   \n",
       "freq              NaN            NaN                 NaN            NaN   \n",
       "mean         0.538361       0.056466            0.030191       0.012763   \n",
       "std          0.498529       0.230821            0.171113       0.112251   \n",
       "min          0.000000       0.000000            0.000000       0.000000   \n",
       "25%          0.000000       0.000000            0.000000       0.000000   \n",
       "50%          1.000000       0.000000            0.000000       0.000000   \n",
       "75%          1.000000       0.000000            0.000000       0.000000   \n",
       "max          1.000000       1.000000            1.000000       1.000000   \n",
       "\n",
       "         Pneumothorax  \n",
       "count   112120.000000  \n",
       "unique            NaN  \n",
       "top               NaN  \n",
       "freq              NaN  \n",
       "mean         0.047289  \n",
       "std          0.212256  \n",
       "min          0.000000  \n",
       "25%          0.000000  \n",
       "50%          0.000000  \n",
       "75%          0.000000  \n",
       "max          1.000000  \n",
       "\n",
       "[11 rows x 26 columns]"
      ]
     },
     "execution_count": 11,
     "metadata": {},
     "output_type": "execute_result"
    }
   ],
   "source": [
    "df_labels.describe(include='all')"
   ]
  },
  {
   "cell_type": "code",
   "execution_count": 11,
   "id": "developed-arcade",
   "metadata": {},
   "outputs": [
    {
     "name": "stdout",
     "output_type": "stream",
     "text": [
      "Fraction of positive class: 0.538\n"
     ]
    },
    {
     "data": {
      "image/png": "[encoded data removed]",
      "text/plain": [
       "<Figure size 432x288 with 1 Axes>"
      ]
     },
     "metadata": {
      "needs_background": "light"
     },
     "output_type": "display_data"
    }
   ],
   "source": [
    "# Label distribution\n",
    "df_labels.describe(include='all')\n",
    "df_labels[disease].hist()"
   ]
  },
  {
   "cell_type": "code",
   "execution_count": 13,
   "metadata": {},
   "outputs": [
    {
     "name": "stdout",
     "output_type": "stream",
     "text": [
      "# train images: 44954\n",
      "# val images: 11260\n",
      "# test images: 11096\n"
     ]
    }
   ],
   "source": [
    "from sklearn.model_selection import train_test_split\n",
    "df_train, df_val = train_test_split(df_train_val, test_size=0.2,random_state=seed)  # 20% val set, about same size as test\n",
    "\n",
    "assert len(df_train) + len(df_val) == len(df_train_val)\n",
    "\n",
    "# Prepare train/val and test data\n",
    "def select_images(df):\n",
    "    df = df[df['View Position']=='PA'].reset_index()\n",
    "    return df\n",
    "\n",
    "df_train_pa = select_images(df_train)\n",
    "df_val_pa = select_images(df_val)\n",
    "df_test_pa = select_images(df_test)\n",
    "\n",
    "print(f\"# train images: {df_train_pa.shape[0]}\")\n",
    "print(f\"# val images: {df_val_pa.shape[0]}\")\n",
    "print(f\"# test images: {df_test_pa.shape[0]}\")"
   ]
  },
  {
   "cell_type": "markdown",
   "id": "ignored-victim",

   "metadata": {},
   "source": [
    "**Warning: The validation images serve as test set. Do NOT use them for model tuning.**\n",
    "Use leave-out set/CV on training images for tuning instead."
   ]
  },
  {
   "cell_type": "markdown",
   "metadata": {},
   "source": [
    "Now we have the images and labels. We can train our model."
   ]
  },
  {
   "cell_type": "code",
   "execution_count": 49,
   "metadata": {},
   "outputs": [],
   "source": [
    "# Loader\n",
    "\n",
    "class NihDataset(Dataset):\n",
    "    def __init__(self, dataframe, root_dir, label, transform=None):\n",
    "        \"\"\"\n",
    "        label: column name of the label of interest, e.g. 'Pleural Effusion'.\n",
    "        \"\"\"\n",
    "        self.dataframe = dataframe\n",
    "        self.root_dir = root_dir\n",
    "        self.transform = transform\n",
    "        self.label = label\n",
    "    \n",
    "    def __len__(self):\n",
    "        return len(self.dataframe)\n",
    "    \n",
    "    def __getitem__(self, idx):\n",
    "        img_name = os.path.join('../', self.root_dir, 'images/',self.dataframe.loc[idx, 'Image Index'])\n",
    "        image = Image.open(img_name).convert('L')  # via .getband(), some images are know to have 4 channels. Here we convert them to 1-channel grayscale.\n",
    "        target = self.dataframe.loc[idx, disease]\n",
    "            \n",
    "        if self.transform:\n",
    "            image = self.transform(image)\n",
    "        \n",
    "        return image, target\n",
    "        "
   ]
  },
  {
   "cell_type": "code",
   "execution_count": 50,
   "metadata": {},
   "outputs": [],
   "source": [
    "# Data loaders to return batch of images\n",
    "def load_data(dataframe, root_dir, label, transform=None, batch_size=32, shuffle=True, num_workers=0):\n",
    "    '''\n",
    "    Data Loader with batch loading and transform.\n",
    "    '''\n",
    "    image_data = NihDataset(dataframe, root_dir, label, transform=transform)\n",
    "    pin = device=='cpu'\n",
    "    loader = torch.utils.data.DataLoader(image_data, batch_size=batch_size, shuffle=shuffle, num_workers=num_workers, pin_memory=pin)\n",
    "    return loader\n",
    "\n",
    "data_transforms = {\n",
    "    'train': transforms.Compose([\n",
    "        transforms.RandomResizedCrop((112,112)),\n",
    "        transforms.RandomHorizontalFlip(),  # data augmentation\n",
    "        transforms.ToTensor(),\n",
    "        #transforms.Normalize([0.485, 0.456, 0.406], [0.229, 0.224, 0.225])\n",
    "    ]),\n",
    "    'test': transforms.Compose([\n",
    "        transforms.Resize((128,128)),\n",
    "        transforms.CenterCrop(112),\n",
    "        transforms.ToTensor(),\n",
    "        #transforms.Normalize([0.485, 0.456, 0.406], [0.229, 0.224, 0.225])\n",
    "    ]),\n",
    "}"
   ]
  },
  {
   "cell_type": "markdown",
   "metadata": {},
   "source": [
    "Define our CNN architecture:"
   ]
  },
  {
   "cell_type": "code",
   "execution_count": 51,
   "metadata": {},
   "outputs": [
    {
     "name": "stdout",
     "output_type": "stream",
     "text": [
      "108 54 50 25\n"
     ]
    }
   ],
   "source": [
    "# Helper function\n",
    "def conv_output_volume(W, F, S, P):\n",
    "    \n",
    "    \"\"\"\n",
    "    Given the input volume size $W$, the kernel/filter size $F$, \n",
    "    the stride $S$, and the amount of zero padding $P$ used on the border, \n",
    "    calculate the output volume size.\n",
    "    \"\"\"\n",
    "    return int((W - F + 2*P) / S) + 1\n",
    "\n",
    "def maxpool_output_volume(W, F, S):\n",
    "    \n",
    "    \"\"\"\n",
    "    Given the input volume size $W$, the kernel/filter size $F$, \n",
    "    the stride $S$, and the amount of zero padding $P$ used on the border, \n",
    "    calculate the output volume size.\n",
    "    \"\"\"\n",
    "    return int(np.ceil((W - F + 1) / S))\n",
    "\n",
    "conv_layer1_size = conv_output_volume(W=112, F=5, S=1, P=0)\n",
    "maxpool_layer1_size = maxpool_output_volume(W=conv_layer1_size, F=2, S=2)\n",
    "\n",
    "conv_layer2_size = conv_output_volume(W=maxpool_layer1_size, F=5, S=1, P=0)\n",
    "maxpool_layer2_size = maxpool_output_volume(W=conv_layer2_size, F=2, S=2)\n",
    "\n",
    "print(conv_layer1_size, maxpool_layer1_size, conv_layer2_size, maxpool_layer2_size)"
   ]
  },
  {
   "cell_type": "code",
   "execution_count": 52,
   "metadata": {},
   "outputs": [],
   "source": [
    "# For now, just use a simple one from https://pytorch.org/tutorials/beginner/blitz/cifar10_tutorial.html, plus dropout\n",
    "\n",
    "import torch.nn as nn\n",
    "import torch.nn.functional as F\n",
    "\n",
    "\n",
    "class Net(nn.Module):\n",
    "    def __init__(self):\n",
    "        super(Net, self).__init__()\n",
    "        self.conv1 = nn.Conv2d(in_channels=1, out_channels=3, kernel_size=5)  # stride=1, padding=0\n",
    "        self.pool = nn.MaxPool2d(kernel_size=2, stride=2)\n",
    "        self.conv2 = nn.Conv2d(3, 8, 5)\n",
    "        self.fc1 = nn.Linear(8 * 25 * 25, 60)\n",
    "        self.fc2 = nn.Linear(60, 20)\n",
    "        self.fc3 = nn.Linear(20, 2)  # 2 classes\n",
    "        self.dropout = nn.Dropout(p=0.2)\n",
    "\n",
    "    def forward(self, x):\n",
    "        x = self.pool(F.relu(self.conv1(x)))  # size: (batch_size*)3channels*110*110\n",
    "        x = self.pool(F.relu(self.conv2(x)))  # size: (batch_size*)8channels*53*53\n",
    "        x = x.view(-1, 8 * 25 * 25)\n",
    "        x = self.dropout(F.relu(self.fc1(x)))\n",
    "        x = self.dropout(F.relu(self.fc2(x)))\n",
    "        x = self.fc3(x)  # no softmax necessary as CrossEntropyLoss will take care. See https://pytorch.org/docs/stable/generated/torch.nn.CrossEntropyLoss.html\n",
    "        return x\n",
    "\n",
    "model = Net().to(device)"
   ]
  },
  {
   "cell_type": "code",
   "execution_count": 53,
   "metadata": {},
   "outputs": [],
   "source": [
    "# Define loss function and optimizer\n",
    "\n",
    "import torch.optim as optim\n",
    "\n",
    "criterion = nn.BCELoss()  # change to CrossEntropyLoss if  multiclass\n",
    "optimizer = optim.Adam(model.parameters(), lr=0.001)"
   ]
  },
  {
   "cell_type": "code",
   "execution_count": 54,
   "metadata": {},
   "outputs": [
    {
     "name": "stdout",
     "output_type": "stream",
     "text": [
      "# of negative/positive cases: 17325:27629\n",
      "Class weight: tensor([1.2974, 0.8135])\n"
     ]
    }
   ],
   "source": [
    "# Define loss function and optimizer\n",
    "\n",
    "import torch.optim as optim\n",
    "num_neg = sum(df_train_pa[disease] == 0)\n",
    "num_pos = sum(df_train_pa[disease] == 1)\n",
    "assert num_neg + num_pos == len(df_train_pa)\n",
    "print(f\"# of negative/positive cases: {num_neg}:{num_pos}\")\n",
    "\n",
    "# https://www.tensorflow.org/tutorials/structured_data/imbalanced_data#class_weights\n",
    "class_weight = torch.FloatTensor([(1 / num_neg)*(len(df_train_pa))/2.0, (1 / num_pos)*(len(df_train_pa))/2.0]).to(device)\n",
    "print(f\"Class weight: {class_weight}\")\n",
    "\n",
    "#criterion = nn.CrossEntropyLoss()  # change to CrossEntropyLoss if  multiclass\n",
    "criterion = nn.CrossEntropyLoss(weight=class_weight)  # change to CrossEntropyLoss if  multiclass\n",
    "optimizer = optim.Adam(model.parameters(), lr=0.0005)"
   ]
  },
  {
   "cell_type": "code",
   "execution_count": 18,
   "id": "vanilla-qualification",
   "metadata": {},
   "outputs": [],
   "source": [
    "def train_model(model, train_loader, valid_loader, num_epochs=10, verbose=True):\n",
    "    start_time = time.time()\n",
    "    train_losses, val_losses = [], []\n",
    "    for epoch in range(num_epochs):\n",
    "        model.train()\n",
    "        print(f\"Epoch {epoch+1}\")\n",
    "        running_loss = 0.0\n",
    "        for i, data in enumerate(train_loader, 0):\n",
    "            # get the inputs; data is a list of [inputs, labels]\n",
    "            inputs, labels = data\n",
    "            inputs = inputs.to(device)\n",
    "            labels = labels.type(torch.LongTensor).to(device)\n",
    "            # zero the parameter gradients\n",
    "            optimizer.zero_grad()\n",
    "            # forward + backward + optimize\n",
    "            outputs = model.forward(inputs)\n",
    "            loss = criterion(outputs, labels)\n",
    "            loss.backward()\n",
    "            optimizer.step()\n",
    "\n",
    "            # print statistics every 10 batches\n",
    "            running_loss += loss.item()\n",
    "            if verbose:\n",
    "                if i % 10 == 9:    # print every 10 mini-batches\n",
    "                    print('[%d, %5d] loss: %.3f' % (epoch + 1, i + 1, running_loss / (i+1)))\n",
    "        train_losses.append(running_loss/len(train_data_loader))  # keep trace of train loss in each epoch\n",
    "        print(f'Time elapsed: {(time.time()-start_time)/60.0:.1f} minutes.')\n",
    "        \n",
    "        # validate every epoch\n",
    "        print(\"Validating...\")\n",
    "        val_loss, _, _, _ = eval_model(model, valid_loader)\n",
    "        val_losses.append(val_loss/len(val_data_loader))  # keep trace of validation loss in each epoch\n",
    "        print(\"Epoch: {}/{}.. \".format(epoch+1, num_epochs),\n",
    "              \"Training Loss: {:.3f}.. \".format(train_losses[-1]),\n",
    "              \"Validation Loss: {:.3f}.. \".format(val_losses[-1]))\n",
    "        \n",
    "        # save the model every epoch\n",
    "        MODEL_PATH = f'../models/simple_net_{time.time()}_epoch{num_epochs}.pth'\n",
    "        torch.save(model.state_dict(), MODEL_PATH)\n",
    "        print(\"Model saved!\")\n",
    "        \n",
    "    return model, train_losses, val_losses\n",
    "\n",
    "def eval_model(model, loader):\n",
    "    from sklearn.metrics import roc_auc_score, classification_report, confusion_matrix, ConfusionMatrixDisplay, roc_curve\n",
    "    # validate every epoch\n",
    "    loss = 0.0\n",
    "    # Turn off gradients for validation, saves memory and computations\n",
    "    with torch.no_grad():\n",
    "        model.eval()\n",
    "        # empty tensors to hold results\n",
    "        Y_prob, Y_true, Y_pred = [], [], []\n",
    "        for inputs, labels in loader:\n",
    "            probs = model(inputs.to(device)) # prediction probability\n",
    "            labels = labels.type(torch.LongTensor).to(device)  # true labels\n",
    "            _, predicted = torch.max(probs, dim=1)\n",
    "            # stack results\n",
    "            Y_prob.append(probs[:,-1])  # probability of positive class\n",
    "            Y_true.append(labels)\n",
    "            Y_pred.append(predicted)\n",
    "            \n",
    "            loss += criterion(probs, labels)\n",
    "\n",
    "    # convert to numpy\n",
    "    Y_prob = torch.cat(Y_prob).detach().cpu().numpy()\n",
    "    Y_pred = torch.cat(Y_pred).detach().cpu().numpy()\n",
    "    Y_true = torch.cat(Y_true).detach().cpu().numpy()\n",
    "\n",
    "    # TODO: use desired metrics here\n",
    "    print(f\"ROC: {roc_auc_score(Y_true, Y_prob):.3f}\")\n",
    "    fpr, tpr, _ = roc_curve(Y_true, Y_prob)\n",
    "    auc = roc_auc_score(Y_true, Y_prob)\n",
    "    plt.figure()\n",
    "    plt.plot(fpr,tpr,label=f\"Validation, ROCAUC={auc:3f}\")\n",
    "    plt.legend(loc=4)\n",
    "    plt.show()\n",
    "    \n",
    "    print(classification_report(Y_true, Y_pred))\n",
    "    plt.figure()\n",
    "    cm = confusion_matrix(Y_true, Y_pred)  # confusion matrix\n",
    "    disp = ConfusionMatrixDisplay(confusion_matrix=cm)\n",
    "    disp.plot()\n",
    "     \n",
    "    return loss, Y_prob, Y_pred, Y_true"
   ]
  },
  {
   "cell_type": "code",
   "execution_count": 22,
   "metadata": {},
   "outputs": [],
   "source": [
    "#loss, Y_prob, Y_pred, Y_true = eval_model(model, val_data_loader)"
   ]
  },
  {
   "cell_type": "code",
   "execution_count": 20,
   "metadata": {},
   "outputs": [],
   "source": [
    "#pd.DataFrame(Y_prob).hist()"
   ]
  },
  {
   "cell_type": "code",
   "execution_count": 21,
   "metadata": {},
   "outputs": [
    {
     "name": "stdout",
     "output_type": "stream",
     "text": [
      "Training start. Mode: cpu\n",
      "Epoch 1\n",
      "Time elapsed: 5.7 minutes.\n",
      "Validating...\n",
      "ROC: 0.608\n"
     ]
    },
    {
     "data": {
      "image/png": "[encoded data removed]",
      "text/plain": [
       "<Figure size 432x288 with 1 Axes>"
      ]
     },
     "metadata": {
      "needs_background": "light"
     },
     "output_type": "display_data"
    },
    {
     "name": "stdout",
     "output_type": "stream",
     "text": [
      "              precision    recall  f1-score   support\n",
      "\n",
      "           0       0.46      0.60      0.52      4392\n",
      "           1       0.68      0.55      0.61      6868\n",
      "\n",
      "    accuracy                           0.57     11260\n",
      "   macro avg       0.57      0.57      0.56     11260\n",
      "weighted avg       0.60      0.57      0.57     11260\n",
      "\n",
      "Epoch: 1/10..  Training Loss: 0.691..  Validation Loss: 0.682.. \n",
      "Model saved!\n",
      "Epoch 2\n",
      "Time elapsed: 12.9 minutes.\n",
      "Validating...\n",
      "ROC: 0.611\n"
     ]
    },
    {
     "data": {
      "text/plain": [
       "<Figure size 432x288 with 0 Axes>"
      ]
     },
     "metadata": {},
     "output_type": "display_data"
    },
    {
     "data": {
      "image/png": "[encoded data removed]",
      "text/plain": [
       "<Figure size 432x288 with 2 Axes>"
      ]
     },
     "metadata": {
      "needs_background": "light"
     },
     "output_type": "display_data"
    },
    {
     "data": {
      "image/png": "[encoded data removed]",
      "text/plain": [
       "<Figure size 432x288 with 1 Axes>"
      ]
     },
     "metadata": {
      "needs_background": "light"
     },
     "output_type": "display_data"
    },
    {
     "name": "stdout",
     "output_type": "stream",
     "text": [
      "              precision    recall  f1-score   support\n",
      "\n",
      "           0       0.48      0.50      0.49      4392\n",
      "           1       0.67      0.65      0.66      6868\n",
      "\n",
      "    accuracy                           0.59     11260\n",
      "   macro avg       0.58      0.58      0.58     11260\n",
      "weighted avg       0.60      0.59      0.59     11260\n",
      "\n",
      "Epoch: 2/10..  Training Loss: 0.688..  Validation Loss: 0.678.. \n",
      "Model saved!\n",
      "Epoch 3\n",
      "Time elapsed: 20.2 minutes.\n",
      "Validating...\n",
      "ROC: 0.619\n"
     ]
    },
    {
     "data": {
      "text/plain": [
       "<Figure size 432x288 with 0 Axes>"
      ]
     },
     "metadata": {},
     "output_type": "display_data"
    },
    {
     "data": {
      "image/png": "[encoded data removed]",
      "text/plain": [
       "<Figure size 432x288 with 2 Axes>"
      ]
     },
     "metadata": {
      "needs_background": "light"
     },
     "output_type": "display_data"
    },
    {
     "data": {
      "image/png": "[encoded data removed]",
      "text/plain": [
       "<Figure size 432x288 with 1 Axes>"
      ]
     },
     "metadata": {
      "needs_background": "light"
     },
     "output_type": "display_data"
    },
    {
     "name": "stdout",
     "output_type": "stream",
     "text": [
      "              precision    recall  f1-score   support\n",
      "\n",
      "           0       0.53      0.37      0.43      4392\n",
      "           1       0.66      0.79      0.72      6868\n",
      "\n",
      "    accuracy                           0.63     11260\n",
      "   macro avg       0.60      0.58      0.58     11260\n",
      "weighted avg       0.61      0.63      0.61     11260\n",
      "\n",
      "Epoch: 3/10..  Training Loss: 0.687..  Validation Loss: 0.677.. \n",
      "Model saved!\n",
      "Epoch 4\n",
      "Time elapsed: 27.6 minutes.\n",
      "Validating...\n",
      "ROC: 0.623\n"
     ]
    },
    {
     "data": {
      "text/plain": [
       "<Figure size 432x288 with 0 Axes>"
      ]
     },
     "metadata": {},
     "output_type": "display_data"
    },
    {
     "data": {
      "image/png": "[encoded data removed]",
      "text/plain": [
       "<Figure size 432x288 with 2 Axes>"
      ]
     },
     "metadata": {
      "needs_background": "light"
     },
     "output_type": "display_data"
    },
    {
     "data": {
      "image/png": "[encoded data removed]",
      "text/plain": [
       "<Figure size 432x288 with 1 Axes>"
      ]
     },
     "metadata": {
      "needs_background": "light"
     },
     "output_type": "display_data"
    },
    {
     "name": "stdout",
     "output_type": "stream",
     "text": [
      "              precision    recall  f1-score   support\n",
      "\n",
      "           0       0.48      0.58      0.52      4392\n",
      "           1       0.69      0.59      0.64      6868\n",
      "\n",
      "    accuracy                           0.59     11260\n",
      "   macro avg       0.58      0.59      0.58     11260\n",
      "weighted avg       0.61      0.59      0.59     11260\n",
      "\n",
      "Epoch: 4/10..  Training Loss: 0.685..  Validation Loss: 0.672.. \n",
      "Model saved!\n",
      "Epoch 5\n",
      "Time elapsed: 34.7 minutes.\n",
      "Validating...\n",
      "ROC: 0.629\n"
     ]
    },
    {
     "data": {
      "text/plain": [
       "<Figure size 432x288 with 0 Axes>"
      ]
     },
     "metadata": {},
     "output_type": "display_data"
    },
    {
     "data": {
      "image/png": "[encoded data removed]",
      "text/plain": [
       "<Figure size 432x288 with 2 Axes>"
      ]
     },
     "metadata": {
      "needs_background": "light"
     },
     "output_type": "display_data"
    },
    {
     "data": {
      "image/png": "[encoded data removed]",
      "text/plain": [
       "<Figure size 432x288 with 1 Axes>"
      ]
     },
     "metadata": {
      "needs_background": "light"
     },
     "output_type": "display_data"
    },
    {
     "name": "stdout",
     "output_type": "stream",
     "text": [
      "              precision    recall  f1-score   support\n",
      "\n",
      "           0       0.49      0.54      0.51      4392\n",
      "           1       0.69      0.65      0.67      6868\n",
      "\n",
      "    accuracy                           0.60     11260\n",
      "   macro avg       0.59      0.59      0.59     11260\n",
      "weighted avg       0.61      0.60      0.61     11260\n",
      "\n",
      "Epoch: 5/10..  Training Loss: 0.684..  Validation Loss: 0.671.. \n",
      "Model saved!\n",
      "Epoch 6\n",
      "Time elapsed: 42.0 minutes.\n",
      "Validating...\n",
      "ROC: 0.629\n"
     ]
    },
    {
     "data": {
      "text/plain": [
       "<Figure size 432x288 with 0 Axes>"
      ]
     },
     "metadata": {},
     "output_type": "display_data"
    },
    {
     "data": {
      "image/png": "[encoded data removed]",
      "text/plain": [
       "<Figure size 432x288 with 2 Axes>"
      ]
     },
     "metadata": {
      "needs_background": "light"
     },
     "output_type": "display_data"
    },
    {
     "data": {
      "image/png": "[encoded data removed]",
      "text/plain": [
       "<Figure size 432x288 with 1 Axes>"
      ]
     },
     "metadata": {
      "needs_background": "light"
     },
     "output_type": "display_data"
    },
    {
     "name": "stdout",
     "output_type": "stream",
     "text": [
      "              precision    recall  f1-score   support\n",
      "\n",
      "           0       0.55      0.36      0.44      4392\n",
      "           1       0.67      0.81      0.73      6868\n",
      "\n",
      "    accuracy                           0.64     11260\n",
      "   macro avg       0.61      0.59      0.58     11260\n",
      "weighted avg       0.62      0.64      0.62     11260\n",
      "\n",
      "Epoch: 6/10..  Training Loss: 0.682..  Validation Loss: 0.670.. \n",
      "Model saved!\n",
      "Epoch 7\n",
      "Time elapsed: 49.2 minutes.\n",
      "Validating...\n",
      "ROC: 0.633\n"
     ]
    },
    {
     "data": {
      "text/plain": [
       "<Figure size 432x288 with 0 Axes>"
      ]
     },
     "metadata": {},
     "output_type": "display_data"
    },
    {
     "data": {
      "image/png": "[encoded data removed]",
      "text/plain": [
       "<Figure size 432x288 with 2 Axes>"
      ]
     },
     "metadata": {
      "needs_background": "light"
     },
     "output_type": "display_data"
    },
    {
     "data": {
      "image/png": "[encoded data removed]",
      "text/plain": [
       "<Figure size 432x288 with 1 Axes>"
      ]
     },
     "metadata": {
      "needs_background": "light"
     },
     "output_type": "display_data"
    },
    {
     "name": "stdout",
     "output_type": "stream",
     "text": [
      "              precision    recall  f1-score   support\n",
      "\n",
      "           0       0.51      0.51      0.51      4392\n",
      "           1       0.69      0.68      0.68      6868\n",
      "\n",
      "    accuracy                           0.61     11260\n",
      "   macro avg       0.60      0.60      0.60     11260\n",
      "weighted avg       0.62      0.61      0.61     11260\n",
      "\n",
      "Epoch: 7/10..  Training Loss: 0.684..  Validation Loss: 0.673.. \n",
      "Model saved!\n",
      "Epoch 8\n",
      "Time elapsed: 56.5 minutes.\n",
      "Validating...\n",
      "ROC: 0.637\n"
     ]
    },
    {
     "data": {
      "text/plain": [
       "<Figure size 432x288 with 0 Axes>"
      ]
     },
     "metadata": {},
     "output_type": "display_data"
    },
    {
     "data": {
      "image/png": "[encoded data removed]",
      "text/plain": [
       "<Figure size 432x288 with 2 Axes>"
      ]
     },
     "metadata": {
      "needs_background": "light"
     },
     "output_type": "display_data"
    },
    {
     "data": {
      "image/png": "[encoded data removed]",
      "text/plain": [
       "<Figure size 432x288 with 1 Axes>"
      ]
     },
     "metadata": {
      "needs_background": "light"
     },
     "output_type": "display_data"
    },
    {
     "name": "stdout",
     "output_type": "stream",
     "text": [
      "              precision    recall  f1-score   support\n",
      "\n",
      "           0       0.51      0.53      0.52      4392\n",
      "           1       0.69      0.67      0.68      6868\n",
      "\n",
      "    accuracy                           0.62     11260\n",
      "   macro avg       0.60      0.60      0.60     11260\n",
      "weighted avg       0.62      0.62      0.62     11260\n",
      "\n",
      "Epoch: 8/10..  Training Loss: 0.682..  Validation Loss: 0.666.. \n",
      "Model saved!\n",
      "Epoch 9\n",
      "Time elapsed: 63.8 minutes.\n",
      "Validating...\n",
      "ROC: 0.637\n"
     ]
    },
    {
     "data": {
      "text/plain": [
       "<Figure size 432x288 with 0 Axes>"
      ]
     },
     "metadata": {},
     "output_type": "display_data"
    },
    {
     "data": {
      "image/png": "[encoded data removed]",
      "text/plain": [
       "<Figure size 432x288 with 2 Axes>"
      ]
     },
     "metadata": {
      "needs_background": "light"
     },
     "output_type": "display_data"
    },
    {
     "data": {
      "image/png": "[encoded data removed]",
      "text/plain": [
       "<Figure size 432x288 with 1 Axes>"
      ]
     },
     "metadata": {
      "needs_background": "light"
     },
     "output_type": "display_data"
    },
    {
     "name": "stdout",
     "output_type": "stream",
     "text": [
      "              precision    recall  f1-score   support\n",
      "\n",
      "           0       0.55      0.41      0.47      4392\n",
      "           1       0.68      0.78      0.72      6868\n",
      "\n",
      "    accuracy                           0.64     11260\n",
      "   macro avg       0.61      0.60      0.60     11260\n",
      "weighted avg       0.62      0.64      0.62     11260\n",
      "\n",
      "Epoch: 9/10..  Training Loss: 0.682..  Validation Loss: 0.666.. \n",
      "Model saved!\n",
      "Epoch 10\n",
      "Time elapsed: 70.9 minutes.\n",
      "Validating...\n",
      "ROC: 0.632\n"
     ]
    },
    {
     "data": {
      "text/plain": [
       "<Figure size 432x288 with 0 Axes>"
      ]
     },
     "metadata": {},
     "output_type": "display_data"
    },
    {
     "data": {
      "image/png": "[encoded data removed]",
      "text/plain": [
       "<Figure size 432x288 with 2 Axes>"
      ]
     },
     "metadata": {
      "needs_background": "light"
     },
     "output_type": "display_data"
    },
    {
     "data": {
      "image/png": "[encoded data removed]",
      "text/plain": [
       "<Figure size 432x288 with 1 Axes>"
      ]
     },
     "metadata": {
      "needs_background": "light"
     },
     "output_type": "display_data"
    },
    {
     "name": "stdout",
     "output_type": "stream",
     "text": [
      "              precision    recall  f1-score   support\n",
      "\n",
      "           0       0.51      0.50      0.51      4392\n",
      "           1       0.69      0.70      0.69      6868\n",
      "\n",
      "    accuracy                           0.62     11260\n",
      "   macro avg       0.60      0.60      0.60     11260\n",
      "weighted avg       0.62      0.62      0.62     11260\n",
      "\n",
      "Epoch: 10/10..  Training Loss: 0.681..  Validation Loss: 0.665.. \n",
      "Model saved!\n",
      "Finished Training. Total time: 4342.969681739807 secs.\n"
     ]
    },
    {
     "data": {
      "text/plain": [
       "<Figure size 432x288 with 0 Axes>"
      ]
     },
     "metadata": {},
     "output_type": "display_data"
    },
    {
     "data": {
      "image/png": "[encoded data removed]",
      "text/plain": [
       "<Figure size 432x288 with 2 Axes>"
      ]
     },
     "metadata": {
      "needs_background": "light"
     },
     "output_type": "display_data"
    }
   ],
   "source": [
    "import time\n",
    "\n",
    "num_epochs = 10\n",
    "batch_size = 256\n",
    "\n",
    "train_data_loader = load_data(df_train_pa, DATA_FOLDER, disease, transform=data_transforms['train'], shuffle=True, batch_size=batch_size)\n",
    "val_data_loader = load_data(df_val_pa, DATA_FOLDER, disease, transform=data_transforms['test'], shuffle=False, batch_size=32)\n",
    "\n",
    "print(f\"Training start. Mode: {device}\")\n",
    "start_time = time.time()\n",
    "model, t_losses, v_losses = train_model(model, train_data_loader, val_data_loader, num_epochs=num_epochs, verbose=False)\n",
    "print(f'Finished Training. Total time: {time.time()-start_time} secs.')"
   ]
  },
  {
   "cell_type": "code",
   "execution_count": 22,
   "id": "configured-stereo",
   "metadata": {},
   "outputs": [
    {
     "data": {
      "image/png": "[encoded data removed]",
      "text/plain": [
       "<Figure size 432x288 with 1 Axes>"
      ]
     },
     "metadata": {
      "needs_background": "light"
     },
     "output_type": "display_data"
    }
   ],
   "source": [
    "# plot training and validation loss over epoches\n",
    "plt.figure()\n",
    "plt.plot(t_losses, 'b', label='Training loss')\n",
    "plt.plot(v_losses, 'g', label='Validation Loss')\n",
    "plt.legend()\n",
    "plt.show()"
   ]
  },
  {
   "cell_type": "code",
   "execution_count": 23,
   "id": "protected-williams",
   "metadata": {},
   "outputs": [
    {
     "name": "stdout",
     "output_type": "stream",
     "text": [
      "ROC: 0.551\n"
     ]
    },
    {
     "data": {
      "image/png": "[encoded data removed]",
      "text/plain": [
       "<Figure size 432x288 with 1 Axes>"
      ]
     },
     "metadata": {
      "needs_background": "light"
     },
     "output_type": "display_data"
    },
    {
     "name": "stdout",
     "output_type": "stream",
     "text": [
      "              precision    recall  f1-score   support\n",
      "\n",
      "           0       0.58      0.66      0.62      6291\n",
      "           1       0.45      0.37      0.41      4805\n",
      "\n",
      "    accuracy                           0.53     11096\n",
      "   macro avg       0.52      0.51      0.51     11096\n",
      "weighted avg       0.52      0.53      0.53     11096\n",
      "\n"
     ]
    },
    {
     "data": {
      "text/plain": [
       "<Figure size 432x288 with 0 Axes>"
      ]
     },
     "metadata": {},
     "output_type": "display_data"
    },
    {
     "data": {
      "image/png": "[encoded data removed]",
      "text/plain": [
       "<Figure size 432x288 with 2 Axes>"
      ]
     },
     "metadata": {
      "needs_background": "light"
     },
     "output_type": "display_data"
    }
   ],
   "source": [
    "# Evaluate on test set\n",
    "test_data_loader = load_data(df_test_pa, DATA_FOLDER, disease, transform=data_transforms['test'], shuffle=False, batch_size=32)\n",
    "test_loss, t_prob, t_pred, t_true = eval_model(model, test_data_loader)"
   ]
  },
  {
   "cell_type": "code",
   "execution_count": null,
   "id": "athletic-flash",
   "metadata": {},
   "outputs": [],
   "source": []
  }
 ],
 "metadata": {
  "environment": {
   "name": "pytorch-gpu.1-7.m65",
   "type": "gcloud",
   "uri": "gcr.io/deeplearning-platform-release/pytorch-gpu.1-7:m65"
  },
  "kernelspec": {
   "display_name": "Python 3",
   "language": "python",
   "name": "python3"
  },
  "language_info": {
   "codemirror_mode": {
    "name": "ipython",
    "version": 3
   },
   "file_extension": ".py",
   "mimetype": "text/x-python",
   "name": "python",
   "nbconvert_exporter": "python",
   "pygments_lexer": "ipython3",
   "version": "3.7.3"
  }
 },
 "nbformat": 4,
 "nbformat_minor": 5
}
